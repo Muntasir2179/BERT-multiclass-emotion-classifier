{
  "cells": [
    {
      "cell_type": "markdown",
      "metadata": {
        "id": "view-in-github",
        "colab_type": "text"
      },
      "source": [
        "<a href=\"https://colab.research.google.com/github/Muntasir2179/BERT-multiclass-emotion-classifier/blob/main/BERT_multiclass_emotion_classification.ipynb\" target=\"_parent\"><img src=\"https://colab.research.google.com/assets/colab-badge.svg\" alt=\"Open In Colab\"/></a>"
      ]
    },
    {
      "cell_type": "code",
      "execution_count": null,
      "metadata": {
        "colab": {
          "base_uri": "https://localhost:8080/"
        },
        "id": "vuf9AjQSWYSm",
        "outputId": "4888b4bc-a132-466a-f6b4-32951203f532"
      },
      "outputs": [
        {
          "output_type": "stream",
          "name": "stdout",
          "text": [
            "Looking in indexes: https://pypi.org/simple, https://us-python.pkg.dev/colab-wheels/public/simple/\n",
            "Collecting transformers\n",
            "  Downloading transformers-4.29.2-py3-none-any.whl (7.1 MB)\n",
            "\u001b[2K     \u001b[90m━━━━━━━━━━━━━━━━━━━━━━━━━━━━━━━━━━━━━━━━\u001b[0m \u001b[32m7.1/7.1 MB\u001b[0m \u001b[31m38.2 MB/s\u001b[0m eta \u001b[36m0:00:00\u001b[0m\n",
            "\u001b[?25hRequirement already satisfied: filelock in /usr/local/lib/python3.10/dist-packages (from transformers) (3.12.0)\n",
            "Collecting huggingface-hub<1.0,>=0.14.1 (from transformers)\n",
            "  Downloading huggingface_hub-0.15.1-py3-none-any.whl (236 kB)\n",
            "\u001b[2K     \u001b[90m━━━━━━━━━━━━━━━━━━━━━━━━━━━━━━━━━━━━━━\u001b[0m \u001b[32m236.8/236.8 kB\u001b[0m \u001b[31m26.1 MB/s\u001b[0m eta \u001b[36m0:00:00\u001b[0m\n",
            "\u001b[?25hRequirement already satisfied: numpy>=1.17 in /usr/local/lib/python3.10/dist-packages (from transformers) (1.22.4)\n",
            "Requirement already satisfied: packaging>=20.0 in /usr/local/lib/python3.10/dist-packages (from transformers) (23.1)\n",
            "Requirement already satisfied: pyyaml>=5.1 in /usr/local/lib/python3.10/dist-packages (from transformers) (6.0)\n",
            "Requirement already satisfied: regex!=2019.12.17 in /usr/local/lib/python3.10/dist-packages (from transformers) (2022.10.31)\n",
            "Requirement already satisfied: requests in /usr/local/lib/python3.10/dist-packages (from transformers) (2.27.1)\n",
            "Collecting tokenizers!=0.11.3,<0.14,>=0.11.1 (from transformers)\n",
            "  Downloading tokenizers-0.13.3-cp310-cp310-manylinux_2_17_x86_64.manylinux2014_x86_64.whl (7.8 MB)\n",
            "\u001b[2K     \u001b[90m━━━━━━━━━━━━━━━━━━━━━━━━━━━━━━━━━━━━━━━━\u001b[0m \u001b[32m7.8/7.8 MB\u001b[0m \u001b[31m36.5 MB/s\u001b[0m eta \u001b[36m0:00:00\u001b[0m\n",
            "\u001b[?25hRequirement already satisfied: tqdm>=4.27 in /usr/local/lib/python3.10/dist-packages (from transformers) (4.65.0)\n",
            "Requirement already satisfied: fsspec in /usr/local/lib/python3.10/dist-packages (from huggingface-hub<1.0,>=0.14.1->transformers) (2023.4.0)\n",
            "Requirement already satisfied: typing-extensions>=3.7.4.3 in /usr/local/lib/python3.10/dist-packages (from huggingface-hub<1.0,>=0.14.1->transformers) (4.5.0)\n",
            "Requirement already satisfied: urllib3<1.27,>=1.21.1 in /usr/local/lib/python3.10/dist-packages (from requests->transformers) (1.26.15)\n",
            "Requirement already satisfied: certifi>=2017.4.17 in /usr/local/lib/python3.10/dist-packages (from requests->transformers) (2022.12.7)\n",
            "Requirement already satisfied: charset-normalizer~=2.0.0 in /usr/local/lib/python3.10/dist-packages (from requests->transformers) (2.0.12)\n",
            "Requirement already satisfied: idna<4,>=2.5 in /usr/local/lib/python3.10/dist-packages (from requests->transformers) (3.4)\n",
            "Installing collected packages: tokenizers, huggingface-hub, transformers\n",
            "Successfully installed huggingface-hub-0.15.1 tokenizers-0.13.3 transformers-4.29.2\n"
          ]
        }
      ],
      "source": [
        "!pip install transformers"
      ]
    },
    {
      "cell_type": "markdown",
      "metadata": {
        "id": "PAwVPg-pW1am"
      },
      "source": [
        "## Importing libraries"
      ]
    },
    {
      "cell_type": "code",
      "execution_count": null,
      "metadata": {
        "id": "6Ln6CMUmWhw-"
      },
      "outputs": [],
      "source": [
        "import pandas as pd\n",
        "import numpy as np\n",
        "import matplotlib.pyplot as plt\n",
        "import seaborn as sns\n",
        "from tqdm.auto import tqdm\n",
        "import tensorflow as tf\n",
        "from transformers import BertTokenizer"
      ]
    },
    {
      "cell_type": "markdown",
      "metadata": {
        "id": "4LIgYoUIXMAu"
      },
      "source": [
        "## Importing dataset"
      ]
    },
    {
      "cell_type": "code",
      "execution_count": null,
      "metadata": {
        "id": "C2vV9NG5XLrf"
      },
      "outputs": [],
      "source": [
        "df = pd.read_csv('Emotion Dataset (English Text).csv', index_col=0)"
      ]
    },
    {
      "cell_type": "code",
      "execution_count": null,
      "metadata": {
        "colab": {
          "base_uri": "https://localhost:8080/",
          "height": 237
        },
        "id": "rHA85uzMXf8w",
        "outputId": "f4ce4b57-e758-46e7-d0f9-d36ae2f1c070"
      },
      "outputs": [
        {
          "output_type": "execute_result",
          "data": {
            "text/plain": [
              "                                                     text    label\n",
              "serial                                                            \n",
              "0                                 i didnt feel humiliated  sadness\n",
              "1       i can go from feeling so hopeless to so damned...  sadness\n",
              "2        im grabbing a minute to post i feel greedy wrong    anger\n",
              "3       i am ever feeling nostalgic about the fireplac...     love\n",
              "4                                    i am feeling grouchy    anger"
            ],
            "text/html": [
              "\n",
              "  <div id=\"df-d4f1313c-9582-43b0-98ae-4477e2a1035b\">\n",
              "    <div class=\"colab-df-container\">\n",
              "      <div>\n",
              "<style scoped>\n",
              "    .dataframe tbody tr th:only-of-type {\n",
              "        vertical-align: middle;\n",
              "    }\n",
              "\n",
              "    .dataframe tbody tr th {\n",
              "        vertical-align: top;\n",
              "    }\n",
              "\n",
              "    .dataframe thead th {\n",
              "        text-align: right;\n",
              "    }\n",
              "</style>\n",
              "<table border=\"1\" class=\"dataframe\">\n",
              "  <thead>\n",
              "    <tr style=\"text-align: right;\">\n",
              "      <th></th>\n",
              "      <th>text</th>\n",
              "      <th>label</th>\n",
              "    </tr>\n",
              "    <tr>\n",
              "      <th>serial</th>\n",
              "      <th></th>\n",
              "      <th></th>\n",
              "    </tr>\n",
              "  </thead>\n",
              "  <tbody>\n",
              "    <tr>\n",
              "      <th>0</th>\n",
              "      <td>i didnt feel humiliated</td>\n",
              "      <td>sadness</td>\n",
              "    </tr>\n",
              "    <tr>\n",
              "      <th>1</th>\n",
              "      <td>i can go from feeling so hopeless to so damned...</td>\n",
              "      <td>sadness</td>\n",
              "    </tr>\n",
              "    <tr>\n",
              "      <th>2</th>\n",
              "      <td>im grabbing a minute to post i feel greedy wrong</td>\n",
              "      <td>anger</td>\n",
              "    </tr>\n",
              "    <tr>\n",
              "      <th>3</th>\n",
              "      <td>i am ever feeling nostalgic about the fireplac...</td>\n",
              "      <td>love</td>\n",
              "    </tr>\n",
              "    <tr>\n",
              "      <th>4</th>\n",
              "      <td>i am feeling grouchy</td>\n",
              "      <td>anger</td>\n",
              "    </tr>\n",
              "  </tbody>\n",
              "</table>\n",
              "</div>\n",
              "      <button class=\"colab-df-convert\" onclick=\"convertToInteractive('df-d4f1313c-9582-43b0-98ae-4477e2a1035b')\"\n",
              "              title=\"Convert this dataframe to an interactive table.\"\n",
              "              style=\"display:none;\">\n",
              "        \n",
              "  <svg xmlns=\"http://www.w3.org/2000/svg\" height=\"24px\"viewBox=\"0 0 24 24\"\n",
              "       width=\"24px\">\n",
              "    <path d=\"M0 0h24v24H0V0z\" fill=\"none\"/>\n",
              "    <path d=\"M18.56 5.44l.94 2.06.94-2.06 2.06-.94-2.06-.94-.94-2.06-.94 2.06-2.06.94zm-11 1L8.5 8.5l.94-2.06 2.06-.94-2.06-.94L8.5 2.5l-.94 2.06-2.06.94zm10 10l.94 2.06.94-2.06 2.06-.94-2.06-.94-.94-2.06-.94 2.06-2.06.94z\"/><path d=\"M17.41 7.96l-1.37-1.37c-.4-.4-.92-.59-1.43-.59-.52 0-1.04.2-1.43.59L10.3 9.45l-7.72 7.72c-.78.78-.78 2.05 0 2.83L4 21.41c.39.39.9.59 1.41.59.51 0 1.02-.2 1.41-.59l7.78-7.78 2.81-2.81c.8-.78.8-2.07 0-2.86zM5.41 20L4 18.59l7.72-7.72 1.47 1.35L5.41 20z\"/>\n",
              "  </svg>\n",
              "      </button>\n",
              "      \n",
              "  <style>\n",
              "    .colab-df-container {\n",
              "      display:flex;\n",
              "      flex-wrap:wrap;\n",
              "      gap: 12px;\n",
              "    }\n",
              "\n",
              "    .colab-df-convert {\n",
              "      background-color: #E8F0FE;\n",
              "      border: none;\n",
              "      border-radius: 50%;\n",
              "      cursor: pointer;\n",
              "      display: none;\n",
              "      fill: #1967D2;\n",
              "      height: 32px;\n",
              "      padding: 0 0 0 0;\n",
              "      width: 32px;\n",
              "    }\n",
              "\n",
              "    .colab-df-convert:hover {\n",
              "      background-color: #E2EBFA;\n",
              "      box-shadow: 0px 1px 2px rgba(60, 64, 67, 0.3), 0px 1px 3px 1px rgba(60, 64, 67, 0.15);\n",
              "      fill: #174EA6;\n",
              "    }\n",
              "\n",
              "    [theme=dark] .colab-df-convert {\n",
              "      background-color: #3B4455;\n",
              "      fill: #D2E3FC;\n",
              "    }\n",
              "\n",
              "    [theme=dark] .colab-df-convert:hover {\n",
              "      background-color: #434B5C;\n",
              "      box-shadow: 0px 1px 3px 1px rgba(0, 0, 0, 0.15);\n",
              "      filter: drop-shadow(0px 1px 2px rgba(0, 0, 0, 0.3));\n",
              "      fill: #FFFFFF;\n",
              "    }\n",
              "  </style>\n",
              "\n",
              "      <script>\n",
              "        const buttonEl =\n",
              "          document.querySelector('#df-d4f1313c-9582-43b0-98ae-4477e2a1035b button.colab-df-convert');\n",
              "        buttonEl.style.display =\n",
              "          google.colab.kernel.accessAllowed ? 'block' : 'none';\n",
              "\n",
              "        async function convertToInteractive(key) {\n",
              "          const element = document.querySelector('#df-d4f1313c-9582-43b0-98ae-4477e2a1035b');\n",
              "          const dataTable =\n",
              "            await google.colab.kernel.invokeFunction('convertToInteractive',\n",
              "                                                     [key], {});\n",
              "          if (!dataTable) return;\n",
              "\n",
              "          const docLinkHtml = 'Like what you see? Visit the ' +\n",
              "            '<a target=\"_blank\" href=https://colab.research.google.com/notebooks/data_table.ipynb>data table notebook</a>'\n",
              "            + ' to learn more about interactive tables.';\n",
              "          element.innerHTML = '';\n",
              "          dataTable['output_type'] = 'display_data';\n",
              "          await google.colab.output.renderOutput(dataTable, element);\n",
              "          const docLink = document.createElement('div');\n",
              "          docLink.innerHTML = docLinkHtml;\n",
              "          element.appendChild(docLink);\n",
              "        }\n",
              "      </script>\n",
              "    </div>\n",
              "  </div>\n",
              "  "
            ]
          },
          "metadata": {},
          "execution_count": 56
        }
      ],
      "source": [
        "df.head()"
      ]
    },
    {
      "cell_type": "code",
      "execution_count": null,
      "metadata": {
        "colab": {
          "base_uri": "https://localhost:8080/"
        },
        "id": "1aiL7PDRXz6O",
        "outputId": "1478b0ed-3958-4680-ba7b-845113d48d9a"
      },
      "outputs": [
        {
          "output_type": "stream",
          "name": "stdout",
          "text": [
            "<class 'pandas.core.frame.DataFrame'>\n",
            "Int64Index: 20000 entries, 0 to 1999\n",
            "Data columns (total 2 columns):\n",
            " #   Column  Non-Null Count  Dtype \n",
            "---  ------  --------------  ----- \n",
            " 0   text    20000 non-null  object\n",
            " 1   label   20000 non-null  object\n",
            "dtypes: object(2)\n",
            "memory usage: 468.8+ KB\n"
          ]
        }
      ],
      "source": [
        "df.info()"
      ]
    },
    {
      "cell_type": "code",
      "execution_count": null,
      "metadata": {
        "colab": {
          "base_uri": "https://localhost:8080/"
        },
        "id": "I2IfR8abYFYe",
        "outputId": "26d2a212-5269-4aa8-87ba-d9fbe2696cc1"
      },
      "outputs": [
        {
          "output_type": "execute_result",
          "data": {
            "text/plain": [
              "joy         6761\n",
              "sadness     5797\n",
              "anger       2709\n",
              "fear        2373\n",
              "love        1641\n",
              "surprise     719\n",
              "Name: label, dtype: int64"
            ]
          },
          "metadata": {},
          "execution_count": 6
        }
      ],
      "source": [
        "df['label'].value_counts()"
      ]
    },
    {
      "cell_type": "code",
      "execution_count": null,
      "metadata": {
        "colab": {
          "base_uri": "https://localhost:8080/",
          "height": 468
        },
        "id": "LOg_w0d6rYBg",
        "outputId": "72a78023-26fa-455a-8f68-588217ef1abd"
      },
      "outputs": [
        {
          "output_type": "execute_result",
          "data": {
            "text/plain": [
              "<Axes: xlabel='label', ylabel='count'>"
            ]
          },
          "metadata": {},
          "execution_count": 57
        },
        {
          "output_type": "display_data",
          "data": {
            "text/plain": [
              "<Figure size 640x480 with 1 Axes>"
            ],
            "image/png": "[encoded data removed]"
          },
          "metadata": {}
        }
      ],
      "source": [
        "sns.countplot(x='label', data=df)"
      ]
    },
    {
      "cell_type": "markdown",
      "metadata": {
        "id": "I_WrR41wZUs7"
      },
      "source": [
        "## Data preparation"
      ]
    },
    {
      "cell_type": "code",
      "execution_count": null,
      "metadata": {
        "id": "WHDz_G__ZX7-"
      },
      "outputs": [],
      "source": [
        "# initializing the tokenizer\n",
        "tokenizer = BertTokenizer.from_pretrained('bert-base-cased')"
      ]
    },
    {
      "cell_type": "code",
      "execution_count": null,
      "metadata": {
        "id": "2UF_GUamZkjH"
      },
      "outputs": [],
      "source": [
        "token = tokenizer.encode_plus(\n",
        "    df['text'].iloc[0],\n",
        "    max_length=256,\n",
        "    truncation=True,\n",
        "    padding='max_length',\n",
        "    add_special_tokens=True,\n",
        "    return_tensors='tf'\n",
        ")\n",
        "# special tokens refers to [CLS], [SEP], [PAD] tokens"
      ]
    },
    {
      "cell_type": "code",
      "execution_count": null,
      "metadata": {
        "id": "ASu2qoSMajRX"
      },
      "outputs": [],
      "source": [
        "x_input_ids = np.zeros((len(df), 256))\n",
        "x_attn_masks = np.zeros((len(df), 256))"
      ]
    },
    {
      "cell_type": "code",
      "execution_count": null,
      "metadata": {
        "colab": {
          "base_uri": "https://localhost:8080/"
        },
        "id": "jR_CR6FAbhhF",
        "outputId": "50247da5-6d1f-4ce6-b543-73a70d040af8"
      },
      "outputs": [
        {
          "output_type": "execute_result",
          "data": {
            "text/plain": [
              "(20000, 256)"
            ]
          },
          "metadata": {},
          "execution_count": 11
        }
      ],
      "source": [
        "x_input_ids.shape"
      ]
    },
    {
      "cell_type": "code",
      "execution_count": null,
      "metadata": {
        "id": "uwhDbG9WblKe"
      },
      "outputs": [],
      "source": [
        "def generate_training_data(df, ids, masks, tokenizer):\n",
        "  for i, text in tqdm(enumerate(df['text'])):\n",
        "    tokenized_text = tokenizer.encode_plus(\n",
        "        text,\n",
        "        max_length=256,\n",
        "        truncation=True,\n",
        "        padding='max_length',\n",
        "        add_special_token=True,\n",
        "        return_tensors='tf'\n",
        "    )\n",
        "    ids[i, :] = tokenized_text.input_ids  # populate all the ids for the i'th text\n",
        "    masks[i, :] = tokenized_text.attention_mask  # populate all the masks for the i'th text\n",
        "  return ids, masks"
      ]
    },
    {
      "cell_type": "code",
      "execution_count": null,
      "metadata": {
        "id": "lEMMEiandJs9",
        "colab": {
          "base_uri": "https://localhost:8080/"
        },
        "outputId": "945930ef-48fd-41f5-fbe7-d0e5f3621400"
      },
      "outputs": [
        {
          "output_type": "stream",
          "name": "stderr",
          "text": [
            "Keyword arguments {'add_special_token': True} not recognized.\n",
            "Keyword arguments {'add_special_token': True} not recognized.\n",
            "Keyword arguments {'add_special_token': True} not recognized.\n",
            "Keyword arguments {'add_special_token': True} not recognized.\n",
            "Keyword arguments {'add_special_token': True} not recognized.\n",
            "Keyword arguments {'add_special_token': True} not recognized.\n",
            "Keyword arguments {'add_special_token': True} not recognized.\n",
            "Keyword arguments {'add_special_token': True} not recognized.\n",
            "Keyword arguments {'add_special_token': True} not recognized.\n",
            "Keyword arguments {'add_special_token': True} not recognized.\n",
            "Keyword arguments {'add_special_token': True} not recognized.\n",
            "Keyword arguments {'add_special_token': True} not recognized.\n",
            "Keyword arguments {'add_special_token': True} not recognized.\n",
            "Keyword arguments {'add_special_token': True} not recognized.\n",
            "Keyword arguments {'add_special_token': True} not recognized.\n",
            "Keyword arguments {'add_special_token': True} not recognized.\n",
            "Keyword arguments {'add_special_token': True} not recognized.\n",
            "Keyword arguments {'add_special_token': True} not recognized.\n",
            "Keyword arguments {'add_special_token': True} not recognized.\n",
            "Keyword arguments {'add_special_token': True} not recognized.\n",
            "Keyword arguments {'add_special_token': True} not recognized.\n",
            "Keyword arguments {'add_special_token': True} not recognized.\n",
            "Keyword arguments {'add_special_token': True} not recognized.\n",
            "Keyword arguments {'add_special_token': True} not recognized.\n",
            "Keyword arguments {'add_special_token': True} not recognized.\n",
            "Keyword arguments {'add_special_token': True} not recognized.\n",
            "Keyword arguments {'add_special_token': True} not recognized.\n",
            "Keyword arguments {'add_special_token': True} not recognized.\n",
            "Keyword arguments {'add_special_token': True} not recognized.\n",
            "Keyword arguments {'add_special_token': True} not recognized.\n",
            "Keyword arguments {'add_special_token': True} not recognized.\n",
            "Keyword arguments {'add_special_token': True} not recognized.\n",
            "Keyword arguments {'add_special_token': True} not recognized.\n",
            "Keyword arguments {'add_special_token': True} not recognized.\n",
            "Keyword arguments {'add_special_token': True} not recognized.\n",
            "Keyword arguments {'add_special_token': True} not recognized.\n",
            "Keyword arguments {'add_special_token': True} not recognized.\n",
            "Keyword arguments {'add_special_token': True} not recognized.\n",
            "Keyword arguments {'add_special_token': True} not recognized.\n",
            "Keyword arguments {'add_special_token': True} not recognized.\n",
            "Keyword arguments {'add_special_token': True} not recognized.\n",
            "Keyword arguments {'add_special_token': True} not recognized.\n",
            "Keyword arguments {'add_special_token': True} not recognized.\n",
            "Keyword arguments {'add_special_token': True} not recognized.\n",
            "Keyword arguments {'add_special_token': True} not recognized.\n",
            "Keyword arguments {'add_special_token': True} not recognized.\n",
            "Keyword arguments {'add_special_token': True} not recognized.\n",
            "Keyword arguments {'add_special_token': True} not recognized.\n",
            "Keyword arguments {'add_special_token': True} not recognized.\n",
            "Keyword arguments {'add_special_token': True} not recognized.\n",
            "Keyword arguments {'add_special_token': True} not recognized.\n",
            "Keyword arguments {'add_special_token': True} not recognized.\n",
            "Keyword arguments {'add_special_token': True} not recognized.\n",
            "Keyword arguments {'add_special_token': True} not recognized.\n",
            "Keyword arguments {'add_special_token': True} not recognized.\n",
            "Keyword arguments {'add_special_token': True} not recognized.\n",
            "Keyword arguments {'add_special_token': True} not recognized.\n",
            "Keyword arguments {'add_special_token': True} not recognized.\n",
            "Keyword arguments {'add_special_token': True} not recognized.\n",
            "Keyword arguments {'add_special_token': True} not recognized.\n",
            "Keyword arguments {'add_special_token': True} not recognized.\n",
            "Keyword arguments {'add_special_token': True} not recognized.\n",
            "Keyword arguments {'add_special_token': True} not recognized.\n",
            "Keyword arguments {'add_special_token': True} not recognized.\n",
            "Keyword arguments {'add_special_token': True} not recognized.\n",
            "Keyword arguments {'add_special_token': True} not recognized.\n",
            "Keyword arguments {'add_special_token': True} not recognized.\n",
            "Keyword arguments {'add_special_token': True} not recognized.\n",
            "Keyword arguments {'add_special_token': True} not recognized.\n",
            "Keyword arguments {'add_special_token': True} not recognized.\n",
            "Keyword arguments {'add_special_token': True} not recognized.\n",
            "Keyword arguments {'add_special_token': True} not recognized.\n",
            "Keyword arguments {'add_special_token': True} not recognized.\n",
            "Keyword arguments {'add_special_token': True} not recognized.\n",
            "Keyword arguments {'add_special_token': True} not recognized.\n",
            "Keyword arguments {'add_special_token': True} not recognized.\n",
            "Keyword arguments {'add_special_token': True} not recognized.\n",
            "Keyword arguments {'add_special_token': True} not recognized.\n",
            "Keyword arguments {'add_special_token': True} not recognized.\n",
            "Keyword arguments {'add_special_token': True} not recognized.\n",
            "Keyword arguments {'add_special_token': True} not recognized.\n",
            "Keyword arguments {'add_special_token': True} not recognized.\n",
            "Keyword arguments {'add_special_token': True} not recognized.\n",
            "Keyword arguments {'add_special_token': True} not recognized.\n",
            "Keyword arguments {'add_special_token': True} not recognized.\n",
            "Keyword arguments {'add_special_token': True} not recognized.\n",
            "Keyword arguments {'add_special_token': True} not recognized.\n",
            "Keyword arguments {'add_special_token': True} not recognized.\n",
            "Keyword arguments {'add_special_token': True} not recognized.\n",
            "Keyword arguments {'add_special_token': True} not recognized.\n",
            "Keyword arguments {'add_special_token': True} not recognized.\n",
            "Keyword arguments {'add_special_token': True} not recognized.\n",
            "Keyword arguments {'add_special_token': True} not recognized.\n",
            "Keyword arguments {'add_special_token': True} not recognized.\n",
            "Keyword arguments {'add_special_token': True} not recognized.\n",
            "Keyword arguments {'add_special_token': True} not recognized.\n",
            "Keyword arguments {'add_special_token': True} not recognized.\n",
            "Keyword arguments {'add_special_token': True} not recognized.\n",
            "Keyword arguments {'add_special_token': True} not recognized.\n",
            "Keyword arguments {'add_special_token': True} not recognized.\n",
            "Keyword arguments {'add_special_token': True} not recognized.\n",
            "Keyword arguments {'add_special_token': True} not recognized.\n",
            "Keyword arguments {'add_special_token': True} not recognized.\n",
            "Keyword arguments {'add_special_token': True} not recognized.\n",
            "Keyword arguments {'add_special_token': True} not recognized.\n",
            "Keyword arguments {'add_special_token': True} not recognized.\n",
            "Keyword arguments {'add_special_token': True} not recognized.\n",
            "Keyword arguments {'add_special_token': True} not recognized.\n",
            "Keyword arguments {'add_special_token': True} not recognized.\n",
            "Keyword arguments {'add_special_token': True} not recognized.\n",
            "Keyword arguments {'add_special_token': True} not recognized.\n",
            "Keyword arguments {'add_special_token': True} not recognized.\n",
            "Keyword arguments {'add_special_token': True} not recognized.\n",
            "Keyword arguments {'add_special_token': True} not recognized.\n",
            "Keyword arguments {'add_special_token': True} not recognized.\n",
            "Keyword arguments {'add_special_token': True} not recognized.\n",
            "Keyword arguments {'add_special_token': True} not recognized.\n",
            "Keyword arguments {'add_special_token': True} not recognized.\n",
            "Keyword arguments {'add_special_token': True} not recognized.\n",
            "Keyword arguments {'add_special_token': True} not recognized.\n",
            "Keyword arguments {'add_special_token': True} not recognized.\n",
            "Keyword arguments {'add_special_token': True} not recognized.\n",
            "Keyword arguments {'add_special_token': True} not recognized.\n",
            "Keyword arguments {'add_special_token': True} not recognized.\n",
            "Keyword arguments {'add_special_token': True} not recognized.\n",
            "Keyword arguments {'add_special_token': True} not recognized.\n",
            "Keyword arguments {'add_special_token': True} not recognized.\n",
            "Keyword arguments {'add_special_token': True} not recognized.\n",
            "Keyword arguments {'add_special_token': True} not recognized.\n",
            "Keyword arguments {'add_special_token': True} not recognized.\n",
            "Keyword arguments {'add_special_token': True} not recognized.\n",
            "Keyword arguments {'add_special_token': True} not recognized.\n",
            "Keyword arguments {'add_special_token': True} not recognized.\n",
            "Keyword arguments {'add_special_token': True} not recognized.\n",
            "Keyword arguments {'add_special_token': True} not recognized.\n",
            "Keyword arguments {'add_special_token': True} not recognized.\n",
            "Keyword arguments {'add_special_token': True} not recognized.\n",
            "Keyword arguments {'add_special_token': True} not recognized.\n",
            "Keyword arguments {'add_special_token': True} not recognized.\n",
            "Keyword arguments {'add_special_token': True} not recognized.\n",
            "Keyword arguments {'add_special_token': True} not recognized.\n",
            "Keyword arguments {'add_special_token': True} not recognized.\n",
            "Keyword arguments {'add_special_token': True} not recognized.\n",
            "Keyword arguments {'add_special_token': True} not recognized.\n",
            "Keyword arguments {'add_special_token': True} not recognized.\n",
            "Keyword arguments {'add_special_token': True} not recognized.\n",
            "Keyword arguments {'add_special_token': True} not recognized.\n",
            "Keyword arguments {'add_special_token': True} not recognized.\n",
            "Keyword arguments {'add_special_token': True} not recognized.\n",
            "Keyword arguments {'add_special_token': True} not recognized.\n",
            "Keyword arguments {'add_special_token': True} not recognized.\n",
            "Keyword arguments {'add_special_token': True} not recognized.\n",
            "Keyword arguments {'add_special_token': True} not recognized.\n",
            "Keyword arguments {'add_special_token': True} not recognized.\n",
            "Keyword arguments {'add_special_token': True} not recognized.\n",
            "Keyword arguments {'add_special_token': True} not recognized.\n",
            "Keyword arguments {'add_special_token': True} not recognized.\n",
            "Keyword arguments {'add_special_token': True} not recognized.\n",
            "Keyword arguments {'add_special_token': True} not recognized.\n",
            "Keyword arguments {'add_special_token': True} not recognized.\n",
            "Keyword arguments {'add_special_token': True} not recognized.\n",
            "Keyword arguments {'add_special_token': True} not recognized.\n",
            "Keyword arguments {'add_special_token': True} not recognized.\n",
            "Keyword arguments {'add_special_token': True} not recognized.\n",
            "Keyword arguments {'add_special_token': True} not recognized.\n",
            "Keyword arguments {'add_special_token': True} not recognized.\n",
            "Keyword arguments {'add_special_token': True} not recognized.\n",
            "Keyword arguments {'add_special_token': True} not recognized.\n",
            "Keyword arguments {'add_special_token': True} not recognized.\n",
            "Keyword arguments {'add_special_token': True} not recognized.\n",
            "Keyword arguments {'add_special_token': True} not recognized.\n",
            "Keyword arguments {'add_special_token': True} not recognized.\n",
            "Keyword arguments {'add_special_token': True} not recognized.\n",
            "Keyword arguments {'add_special_token': True} not recognized.\n",
            "Keyword arguments {'add_special_token': True} not recognized.\n",
            "Keyword arguments {'add_special_token': True} not recognized.\n",
            "Keyword arguments {'add_special_token': True} not recognized.\n",
            "Keyword arguments {'add_special_token': True} not recognized.\n",
            "Keyword arguments {'add_special_token': True} not recognized.\n",
            "Keyword arguments {'add_special_token': True} not recognized.\n",
            "Keyword arguments {'add_special_token': True} not recognized.\n",
            "Keyword arguments {'add_special_token': True} not recognized.\n",
            "Keyword arguments {'add_special_token': True} not recognized.\n",
            "Keyword arguments {'add_special_token': True} not recognized.\n",
            "Keyword arguments {'add_special_token': True} not recognized.\n",
            "Keyword arguments {'add_special_token': True} not recognized.\n",
            "Keyword arguments {'add_special_token': True} not recognized.\n",
            "Keyword arguments {'add_special_token': True} not recognized.\n",
            "Keyword arguments {'add_special_token': True} not recognized.\n",
            "Keyword arguments {'add_special_token': True} not recognized.\n",
            "Keyword arguments {'add_special_token': True} not recognized.\n",
            "Keyword arguments {'add_special_token': True} not recognized.\n",
            "Keyword arguments {'add_special_token': True} not recognized.\n",
            "Keyword arguments {'add_special_token': True} not recognized.\n",
            "Keyword arguments {'add_special_token': True} not recognized.\n",
            "Keyword arguments {'add_special_token': True} not recognized.\n",
            "Keyword arguments {'add_special_token': True} not recognized.\n",
            "Keyword arguments {'add_special_token': True} not recognized.\n",
            "Keyword arguments {'add_special_token': True} not recognized.\n",
            "Keyword arguments {'add_special_token': True} not recognized.\n",
            "Keyword arguments {'add_special_token': True} not recognized.\n",
            "Keyword arguments {'add_special_token': True} not recognized.\n",
            "Keyword arguments {'add_special_token': True} not recognized.\n",
            "Keyword arguments {'add_special_token': True} not recognized.\n",
            "Keyword arguments {'add_special_token': True} not recognized.\n",
            "Keyword arguments {'add_special_token': True} not recognized.\n",
            "Keyword arguments {'add_special_token': True} not recognized.\n",
            "Keyword arguments {'add_special_token': True} not recognized.\n",
            "Keyword arguments {'add_special_token': True} not recognized.\n",
            "Keyword arguments {'add_special_token': True} not recognized.\n",
            "Keyword arguments {'add_special_token': True} not recognized.\n",
            "Keyword arguments {'add_special_token': True} not recognized.\n",
            "Keyword arguments {'add_special_token': True} not recognized.\n",
            "Keyword arguments {'add_special_token': True} not recognized.\n",
            "Keyword arguments {'add_special_token': True} not recognized.\n",
            "Keyword arguments {'add_special_token': True} not recognized.\n",
            "Keyword arguments {'add_special_token': True} not recognized.\n",
            "Keyword arguments {'add_special_token': True} not recognized.\n",
            "Keyword arguments {'add_special_token': True} not recognized.\n",
            "Keyword arguments {'add_special_token': True} not recognized.\n",
            "Keyword arguments {'add_special_token': True} not recognized.\n",
            "Keyword arguments {'add_special_token': True} not recognized.\n",
            "Keyword arguments {'add_special_token': True} not recognized.\n",
            "Keyword arguments {'add_special_token': True} not recognized.\n",
            "Keyword arguments {'add_special_token': True} not recognized.\n",
            "Keyword arguments {'add_special_token': True} not recognized.\n",
            "Keyword arguments {'add_special_token': True} not recognized.\n",
            "Keyword arguments {'add_special_token': True} not recognized.\n",
            "Keyword arguments {'add_special_token': True} not recognized.\n",
            "Keyword arguments {'add_special_token': True} not recognized.\n",
            "Keyword arguments {'add_special_token': True} not recognized.\n",
            "Keyword arguments {'add_special_token': True} not recognized.\n",
            "Keyword arguments {'add_special_token': True} not recognized.\n",
            "Keyword arguments {'add_special_token': True} not recognized.\n",
            "Keyword arguments {'add_special_token': True} not recognized.\n",
            "Keyword arguments {'add_special_token': True} not recognized.\n",
            "Keyword arguments {'add_special_token': True} not recognized.\n",
            "Keyword arguments {'add_special_token': True} not recognized.\n",
            "Keyword arguments {'add_special_token': True} not recognized.\n",
            "Keyword arguments {'add_special_token': True} not recognized.\n",
            "Keyword arguments {'add_special_token': True} not recognized.\n",
            "Keyword arguments {'add_special_token': True} not recognized.\n",
            "Keyword arguments {'add_special_token': True} not recognized.\n",
            "Keyword arguments {'add_special_token': True} not recognized.\n",
            "Keyword arguments {'add_special_token': True} not recognized.\n",
            "Keyword arguments {'add_special_token': True} not recognized.\n",
            "Keyword arguments {'add_special_token': True} not recognized.\n",
            "Keyword arguments {'add_special_token': True} not recognized.\n",
            "Keyword arguments {'add_special_token': True} not recognized.\n",
            "Keyword arguments {'add_special_token': True} not recognized.\n",
            "Keyword arguments {'add_special_token': True} not recognized.\n",
            "Keyword arguments {'add_special_token': True} not recognized.\n",
            "Keyword arguments {'add_special_token': True} not recognized.\n",
            "Keyword arguments {'add_special_token': True} not recognized.\n",
            "Keyword arguments {'add_special_token': True} not recognized.\n",
            "Keyword arguments {'add_special_token': True} not recognized.\n",
            "Keyword arguments {'add_special_token': True} not recognized.\n",
            "Keyword arguments {'add_special_token': True} not recognized.\n",
            "Keyword arguments {'add_special_token': True} not recognized.\n",
            "Keyword arguments {'add_special_token': True} not recognized.\n",
            "Keyword arguments {'add_special_token': True} not recognized.\n",
            "Keyword arguments {'add_special_token': True} not recognized.\n",
            "Keyword arguments {'add_special_token': True} not recognized.\n",
            "Keyword arguments {'add_special_token': True} not recognized.\n",
            "Keyword arguments {'add_special_token': True} not recognized.\n",
            "Keyword arguments {'add_special_token': True} not recognized.\n",
            "Keyword arguments {'add_special_token': True} not recognized.\n",
            "Keyword arguments {'add_special_token': True} not recognized.\n",
            "Keyword arguments {'add_special_token': True} not recognized.\n",
            "Keyword arguments {'add_special_token': True} not recognized.\n",
            "Keyword arguments {'add_special_token': True} not recognized.\n",
            "Keyword arguments {'add_special_token': True} not recognized.\n",
            "Keyword arguments {'add_special_token': True} not recognized.\n",
            "Keyword arguments {'add_special_token': True} not recognized.\n",
            "Keyword arguments {'add_special_token': True} not recognized.\n",
            "Keyword arguments {'add_special_token': True} not recognized.\n",
            "Keyword arguments {'add_special_token': True} not recognized.\n",
            "Keyword arguments {'add_special_token': True} not recognized.\n",
            "Keyword arguments {'add_special_token': True} not recognized.\n",
            "Keyword arguments {'add_special_token': True} not recognized.\n",
            "Keyword arguments {'add_special_token': True} not recognized.\n",
            "Keyword arguments {'add_special_token': True} not recognized.\n",
            "Keyword arguments {'add_special_token': True} not recognized.\n",
            "Keyword arguments {'add_special_token': True} not recognized.\n",
            "Keyword arguments {'add_special_token': True} not recognized.\n",
            "Keyword arguments {'add_special_token': True} not recognized.\n",
            "Keyword arguments {'add_special_token': True} not recognized.\n",
            "Keyword arguments {'add_special_token': True} not recognized.\n",
            "Keyword arguments {'add_special_token': True} not recognized.\n",
            "Keyword arguments {'add_special_token': True} not recognized.\n",
            "Keyword arguments {'add_special_token': True} not recognized.\n",
            "Keyword arguments {'add_special_token': True} not recognized.\n",
            "Keyword arguments {'add_special_token': True} not recognized.\n",
            "Keyword arguments {'add_special_token': True} not recognized.\n",
            "Keyword arguments {'add_special_token': True} not recognized.\n",
            "Keyword arguments {'add_special_token': True} not recognized.\n",
            "Keyword arguments {'add_special_token': True} not recognized.\n",
            "Keyword arguments {'add_special_token': True} not recognized.\n",
            "Keyword arguments {'add_special_token': True} not recognized.\n",
            "Keyword arguments {'add_special_token': True} not recognized.\n",
            "Keyword arguments {'add_special_token': True} not recognized.\n",
            "Keyword arguments {'add_special_token': True} not recognized.\n",
            "Keyword arguments {'add_special_token': True} not recognized.\n",
            "Keyword arguments {'add_special_token': True} not recognized.\n",
            "Keyword arguments {'add_special_token': True} not recognized.\n",
            "Keyword arguments {'add_special_token': True} not recognized.\n",
            "Keyword arguments {'add_special_token': True} not recognized.\n",
            "Keyword arguments {'add_special_token': True} not recognized.\n",
            "Keyword arguments {'add_special_token': True} not recognized.\n",
            "Keyword arguments {'add_special_token': True} not recognized.\n",
            "Keyword arguments {'add_special_token': True} not recognized.\n",
            "Keyword arguments {'add_special_token': True} not recognized.\n",
            "Keyword arguments {'add_special_token': True} not recognized.\n",
            "Keyword arguments {'add_special_token': True} not recognized.\n",
            "Keyword arguments {'add_special_token': True} not recognized.\n",
            "Keyword arguments {'add_special_token': True} not recognized.\n",
            "Keyword arguments {'add_special_token': True} not recognized.\n",
            "Keyword arguments {'add_special_token': True} not recognized.\n",
            "Keyword arguments {'add_special_token': True} not recognized.\n",
            "Keyword arguments {'add_special_token': True} not recognized.\n",
            "Keyword arguments {'add_special_token': True} not recognized.\n",
            "Keyword arguments {'add_special_token': True} not recognized.\n",
            "Keyword arguments {'add_special_token': True} not recognized.\n",
            "Keyword arguments {'add_special_token': True} not recognized.\n",
            "Keyword arguments {'add_special_token': True} not recognized.\n",
            "Keyword arguments {'add_special_token': True} not recognized.\n",
            "Keyword arguments {'add_special_token': True} not recognized.\n",
            "Keyword arguments {'add_special_token': True} not recognized.\n",
            "Keyword arguments {'add_special_token': True} not recognized.\n",
            "Keyword arguments {'add_special_token': True} not recognized.\n",
            "Keyword arguments {'add_special_token': True} not recognized.\n",
            "Keyword arguments {'add_special_token': True} not recognized.\n",
            "Keyword arguments {'add_special_token': True} not recognized.\n",
            "Keyword arguments {'add_special_token': True} not recognized.\n",
            "Keyword arguments {'add_special_token': True} not recognized.\n",
            "Keyword arguments {'add_special_token': True} not recognized.\n",
            "Keyword arguments {'add_special_token': True} not recognized.\n",
            "Keyword arguments {'add_special_token': True} not recognized.\n",
            "Keyword arguments {'add_special_token': True} not recognized.\n",
            "Keyword arguments {'add_special_token': True} not recognized.\n",
            "Keyword arguments {'add_special_token': True} not recognized.\n",
            "Keyword arguments {'add_special_token': True} not recognized.\n",
            "Keyword arguments {'add_special_token': True} not recognized.\n",
            "Keyword arguments {'add_special_token': True} not recognized.\n",
            "Keyword arguments {'add_special_token': True} not recognized.\n",
            "Keyword arguments {'add_special_token': True} not recognized.\n",
            "Keyword arguments {'add_special_token': True} not recognized.\n",
            "Keyword arguments {'add_special_token': True} not recognized.\n",
            "Keyword arguments {'add_special_token': True} not recognized.\n",
            "Keyword arguments {'add_special_token': True} not recognized.\n",
            "Keyword arguments {'add_special_token': True} not recognized.\n",
            "Keyword arguments {'add_special_token': True} not recognized.\n",
            "Keyword arguments {'add_special_token': True} not recognized.\n",
            "Keyword arguments {'add_special_token': True} not recognized.\n",
            "Keyword arguments {'add_special_token': True} not recognized.\n",
            "Keyword arguments {'add_special_token': True} not recognized.\n",
            "Keyword arguments {'add_special_token': True} not recognized.\n",
            "Keyword arguments {'add_special_token': True} not recognized.\n",
            "Keyword arguments {'add_special_token': True} not recognized.\n",
            "Keyword arguments {'add_special_token': True} not recognized.\n",
            "Keyword arguments {'add_special_token': True} not recognized.\n",
            "Keyword arguments {'add_special_token': True} not recognized.\n",
            "Keyword arguments {'add_special_token': True} not recognized.\n",
            "Keyword arguments {'add_special_token': True} not recognized.\n",
            "Keyword arguments {'add_special_token': True} not recognized.\n",
            "Keyword arguments {'add_special_token': True} not recognized.\n",
            "Keyword arguments {'add_special_token': True} not recognized.\n",
            "Keyword arguments {'add_special_token': True} not recognized.\n",
            "Keyword arguments {'add_special_token': True} not recognized.\n",
            "Keyword arguments {'add_special_token': True} not recognized.\n",
            "Keyword arguments {'add_special_token': True} not recognized.\n",
            "Keyword arguments {'add_special_token': True} not recognized.\n",
            "Keyword arguments {'add_special_token': True} not recognized.\n",
            "Keyword arguments {'add_special_token': True} not recognized.\n",
            "Keyword arguments {'add_special_token': True} not recognized.\n",
            "Keyword arguments {'add_special_token': True} not recognized.\n",
            "Keyword arguments {'add_special_token': True} not recognized.\n",
            "Keyword arguments {'add_special_token': True} not recognized.\n",
            "Keyword arguments {'add_special_token': True} not recognized.\n",
            "Keyword arguments {'add_special_token': True} not recognized.\n",
            "Keyword arguments {'add_special_token': True} not recognized.\n",
            "Keyword arguments {'add_special_token': True} not recognized.\n",
            "Keyword arguments {'add_special_token': True} not recognized.\n",
            "Keyword arguments {'add_special_token': True} not recognized.\n",
            "Keyword arguments {'add_special_token': True} not recognized.\n",
            "Keyword arguments {'add_special_token': True} not recognized.\n",
            "Keyword arguments {'add_special_token': True} not recognized.\n",
            "Keyword arguments {'add_special_token': True} not recognized.\n",
            "Keyword arguments {'add_special_token': True} not recognized.\n",
            "Keyword arguments {'add_special_token': True} not recognized.\n",
            "Keyword arguments {'add_special_token': True} not recognized.\n",
            "Keyword arguments {'add_special_token': True} not recognized.\n",
            "Keyword arguments {'add_special_token': True} not recognized.\n",
            "Keyword arguments {'add_special_token': True} not recognized.\n",
            "Keyword arguments {'add_special_token': True} not recognized.\n",
            "Keyword arguments {'add_special_token': True} not recognized.\n",
            "Keyword arguments {'add_special_token': True} not recognized.\n",
            "Keyword arguments {'add_special_token': True} not recognized.\n",
            "Keyword arguments {'add_special_token': True} not recognized.\n",
            "Keyword arguments {'add_special_token': True} not recognized.\n",
            "Keyword arguments {'add_special_token': True} not recognized.\n",
            "Keyword arguments {'add_special_token': True} not recognized.\n",
            "Keyword arguments {'add_special_token': True} not recognized.\n",
            "Keyword arguments {'add_special_token': True} not recognized.\n",
            "Keyword arguments {'add_special_token': True} not recognized.\n",
            "Keyword arguments {'add_special_token': True} not recognized.\n",
            "Keyword arguments {'add_special_token': True} not recognized.\n",
            "Keyword arguments {'add_special_token': True} not recognized.\n",
            "Keyword arguments {'add_special_token': True} not recognized.\n",
            "Keyword arguments {'add_special_token': True} not recognized.\n",
            "Keyword arguments {'add_special_token': True} not recognized.\n",
            "Keyword arguments {'add_special_token': True} not recognized.\n",
            "Keyword arguments {'add_special_token': True} not recognized.\n",
            "Keyword arguments {'add_special_token': True} not recognized.\n",
            "Keyword arguments {'add_special_token': True} not recognized.\n",
            "Keyword arguments {'add_special_token': True} not recognized.\n",
            "Keyword arguments {'add_special_token': True} not recognized.\n",
            "Keyword arguments {'add_special_token': True} not recognized.\n",
            "Keyword arguments {'add_special_token': True} not recognized.\n",
            "Keyword arguments {'add_special_token': True} not recognized.\n",
            "Keyword arguments {'add_special_token': True} not recognized.\n",
            "Keyword arguments {'add_special_token': True} not recognized.\n",
            "Keyword arguments {'add_special_token': True} not recognized.\n",
            "Keyword arguments {'add_special_token': True} not recognized.\n",
            "Keyword arguments {'add_special_token': True} not recognized.\n",
            "Keyword arguments {'add_special_token': True} not recognized.\n",
            "Keyword arguments {'add_special_token': True} not recognized.\n",
            "Keyword arguments {'add_special_token': True} not recognized.\n",
            "Keyword arguments {'add_special_token': True} not recognized.\n",
            "Keyword arguments {'add_special_token': True} not recognized.\n",
            "Keyword arguments {'add_special_token': True} not recognized.\n",
            "Keyword arguments {'add_special_token': True} not recognized.\n",
            "Keyword arguments {'add_special_token': True} not recognized.\n",
            "Keyword arguments {'add_special_token': True} not recognized.\n",
            "Keyword arguments {'add_special_token': True} not recognized.\n",
            "Keyword arguments {'add_special_token': True} not recognized.\n",
            "Keyword arguments {'add_special_token': True} not recognized.\n",
            "Keyword arguments {'add_special_token': True} not recognized.\n",
            "Keyword arguments {'add_special_token': True} not recognized.\n",
            "Keyword arguments {'add_special_token': True} not recognized.\n",
            "Keyword arguments {'add_special_token': True} not recognized.\n",
            "Keyword arguments {'add_special_token': True} not recognized.\n",
            "Keyword arguments {'add_special_token': True} not recognized.\n",
            "Keyword arguments {'add_special_token': True} not recognized.\n",
            "Keyword arguments {'add_special_token': True} not recognized.\n",
            "Keyword arguments {'add_special_token': True} not recognized.\n",
            "Keyword arguments {'add_special_token': True} not recognized.\n",
            "Keyword arguments {'add_special_token': True} not recognized.\n",
            "Keyword arguments {'add_special_token': True} not recognized.\n",
            "Keyword arguments {'add_special_token': True} not recognized.\n",
            "Keyword arguments {'add_special_token': True} not recognized.\n",
            "Keyword arguments {'add_special_token': True} not recognized.\n",
            "Keyword arguments {'add_special_token': True} not recognized.\n",
            "Keyword arguments {'add_special_token': True} not recognized.\n",
            "Keyword arguments {'add_special_token': True} not recognized.\n",
            "Keyword arguments {'add_special_token': True} not recognized.\n",
            "Keyword arguments {'add_special_token': True} not recognized.\n",
            "Keyword arguments {'add_special_token': True} not recognized.\n",
            "Keyword arguments {'add_special_token': True} not recognized.\n",
            "Keyword arguments {'add_special_token': True} not recognized.\n",
            "Keyword arguments {'add_special_token': True} not recognized.\n",
            "Keyword arguments {'add_special_token': True} not recognized.\n",
            "Keyword arguments {'add_special_token': True} not recognized.\n",
            "Keyword arguments {'add_special_token': True} not recognized.\n",
            "Keyword arguments {'add_special_token': True} not recognized.\n",
            "Keyword arguments {'add_special_token': True} not recognized.\n",
            "Keyword arguments {'add_special_token': True} not recognized.\n",
            "Keyword arguments {'add_special_token': True} not recognized.\n",
            "Keyword arguments {'add_special_token': True} not recognized.\n",
            "Keyword arguments {'add_special_token': True} not recognized.\n",
            "Keyword arguments {'add_special_token': True} not recognized.\n",
            "Keyword arguments {'add_special_token': True} not recognized.\n",
            "Keyword arguments {'add_special_token': True} not recognized.\n",
            "Keyword arguments {'add_special_token': True} not recognized.\n",
            "Keyword arguments {'add_special_token': True} not recognized.\n",
            "Keyword arguments {'add_special_token': True} not recognized.\n",
            "Keyword arguments {'add_special_token': True} not recognized.\n",
            "Keyword arguments {'add_special_token': True} not recognized.\n",
            "Keyword arguments {'add_special_token': True} not recognized.\n",
            "Keyword arguments {'add_special_token': True} not recognized.\n",
            "Keyword arguments {'add_special_token': True} not recognized.\n",
            "Keyword arguments {'add_special_token': True} not recognized.\n",
            "Keyword arguments {'add_special_token': True} not recognized.\n",
            "Keyword arguments {'add_special_token': True} not recognized.\n",
            "Keyword arguments {'add_special_token': True} not recognized.\n",
            "Keyword arguments {'add_special_token': True} not recognized.\n",
            "Keyword arguments {'add_special_token': True} not recognized.\n",
            "Keyword arguments {'add_special_token': True} not recognized.\n",
            "Keyword arguments {'add_special_token': True} not recognized.\n",
            "Keyword arguments {'add_special_token': True} not recognized.\n",
            "Keyword arguments {'add_special_token': True} not recognized.\n",
            "Keyword arguments {'add_special_token': True} not recognized.\n",
            "Keyword arguments {'add_special_token': True} not recognized.\n",
            "Keyword arguments {'add_special_token': True} not recognized.\n",
            "Keyword arguments {'add_special_token': True} not recognized.\n",
            "Keyword arguments {'add_special_token': True} not recognized.\n",
            "Keyword arguments {'add_special_token': True} not recognized.\n",
            "Keyword arguments {'add_special_token': True} not recognized.\n",
            "Keyword arguments {'add_special_token': True} not recognized.\n",
            "Keyword arguments {'add_special_token': True} not recognized.\n",
            "Keyword arguments {'add_special_token': True} not recognized.\n",
            "Keyword arguments {'add_special_token': True} not recognized.\n",
            "Keyword arguments {'add_special_token': True} not recognized.\n",
            "Keyword arguments {'add_special_token': True} not recognized.\n",
            "Keyword arguments {'add_special_token': True} not recognized.\n",
            "Keyword arguments {'add_special_token': True} not recognized.\n",
            "Keyword arguments {'add_special_token': True} not recognized.\n",
            "Keyword arguments {'add_special_token': True} not recognized.\n",
            "Keyword arguments {'add_special_token': True} not recognized.\n",
            "Keyword arguments {'add_special_token': True} not recognized.\n",
            "Keyword arguments {'add_special_token': True} not recognized.\n",
            "Keyword arguments {'add_special_token': True} not recognized.\n",
            "Keyword arguments {'add_special_token': True} not recognized.\n",
            "Keyword arguments {'add_special_token': True} not recognized.\n",
            "Keyword arguments {'add_special_token': True} not recognized.\n",
            "Keyword arguments {'add_special_token': True} not recognized.\n",
            "Keyword arguments {'add_special_token': True} not recognized.\n",
            "Keyword arguments {'add_special_token': True} not recognized.\n",
            "Keyword arguments {'add_special_token': True} not recognized.\n",
            "Keyword arguments {'add_special_token': True} not recognized.\n",
            "Keyword arguments {'add_special_token': True} not recognized.\n",
            "Keyword arguments {'add_special_token': True} not recognized.\n",
            "Keyword arguments {'add_special_token': True} not recognized.\n",
            "Keyword arguments {'add_special_token': True} not recognized.\n",
            "Keyword arguments {'add_special_token': True} not recognized.\n",
            "Keyword arguments {'add_special_token': True} not recognized.\n",
            "Keyword arguments {'add_special_token': True} not recognized.\n",
            "Keyword arguments {'add_special_token': True} not recognized.\n",
            "Keyword arguments {'add_special_token': True} not recognized.\n",
            "Keyword arguments {'add_special_token': True} not recognized.\n",
            "Keyword arguments {'add_special_token': True} not recognized.\n",
            "Keyword arguments {'add_special_token': True} not recognized.\n",
            "Keyword arguments {'add_special_token': True} not recognized.\n",
            "Keyword arguments {'add_special_token': True} not recognized.\n",
            "Keyword arguments {'add_special_token': True} not recognized.\n",
            "Keyword arguments {'add_special_token': True} not recognized.\n",
            "Keyword arguments {'add_special_token': True} not recognized.\n",
            "Keyword arguments {'add_special_token': True} not recognized.\n",
            "Keyword arguments {'add_special_token': True} not recognized.\n",
            "Keyword arguments {'add_special_token': True} not recognized.\n",
            "Keyword arguments {'add_special_token': True} not recognized.\n",
            "Keyword arguments {'add_special_token': True} not recognized.\n",
            "Keyword arguments {'add_special_token': True} not recognized.\n",
            "Keyword arguments {'add_special_token': True} not recognized.\n",
            "Keyword arguments {'add_special_token': True} not recognized.\n",
            "Keyword arguments {'add_special_token': True} not recognized.\n",
            "Keyword arguments {'add_special_token': True} not recognized.\n",
            "Keyword arguments {'add_special_token': True} not recognized.\n",
            "Keyword arguments {'add_special_token': True} not recognized.\n",
            "Keyword arguments {'add_special_token': True} not recognized.\n",
            "Keyword arguments {'add_special_token': True} not recognized.\n",
            "Keyword arguments {'add_special_token': True} not recognized.\n",
            "Keyword arguments {'add_special_token': True} not recognized.\n",
            "Keyword arguments {'add_special_token': True} not recognized.\n",
            "Keyword arguments {'add_special_token': True} not recognized.\n",
            "Keyword arguments {'add_special_token': True} not recognized.\n",
            "Keyword arguments {'add_special_token': True} not recognized.\n",
            "Keyword arguments {'add_special_token': True} not recognized.\n",
            "Keyword arguments {'add_special_token': True} not recognized.\n",
            "Keyword arguments {'add_special_token': True} not recognized.\n",
            "Keyword arguments {'add_special_token': True} not recognized.\n",
            "Keyword arguments {'add_special_token': True} not recognized.\n",
            "Keyword arguments {'add_special_token': True} not recognized.\n",
            "Keyword arguments {'add_special_token': True} not recognized.\n",
            "Keyword arguments {'add_special_token': True} not recognized.\n",
            "Keyword arguments {'add_special_token': True} not recognized.\n",
            "Keyword arguments {'add_special_token': True} not recognized.\n",
            "Keyword arguments {'add_special_token': True} not recognized.\n",
            "Keyword arguments {'add_special_token': True} not recognized.\n",
            "Keyword arguments {'add_special_token': True} not recognized.\n",
            "Keyword arguments {'add_special_token': True} not recognized.\n",
            "Keyword arguments {'add_special_token': True} not recognized.\n",
            "Keyword arguments {'add_special_token': True} not recognized.\n",
            "Keyword arguments {'add_special_token': True} not recognized.\n",
            "Keyword arguments {'add_special_token': True} not recognized.\n",
            "Keyword arguments {'add_special_token': True} not recognized.\n",
            "Keyword arguments {'add_special_token': True} not recognized.\n",
            "Keyword arguments {'add_special_token': True} not recognized.\n",
            "Keyword arguments {'add_special_token': True} not recognized.\n",
            "Keyword arguments {'add_special_token': True} not recognized.\n",
            "Keyword arguments {'add_special_token': True} not recognized.\n",
            "Keyword arguments {'add_special_token': True} not recognized.\n",
            "Keyword arguments {'add_special_token': True} not recognized.\n",
            "Keyword arguments {'add_special_token': True} not recognized.\n",
            "Keyword arguments {'add_special_token': True} not recognized.\n",
            "Keyword arguments {'add_special_token': True} not recognized.\n",
            "Keyword arguments {'add_special_token': True} not recognized.\n",
            "Keyword arguments {'add_special_token': True} not recognized.\n",
            "Keyword arguments {'add_special_token': True} not recognized.\n",
            "Keyword arguments {'add_special_token': True} not recognized.\n",
            "Keyword arguments {'add_special_token': True} not recognized.\n",
            "Keyword arguments {'add_special_token': True} not recognized.\n",
            "Keyword arguments {'add_special_token': True} not recognized.\n",
            "Keyword arguments {'add_special_token': True} not recognized.\n",
            "Keyword arguments {'add_special_token': True} not recognized.\n",
            "Keyword arguments {'add_special_token': True} not recognized.\n",
            "Keyword arguments {'add_special_token': True} not recognized.\n",
            "Keyword arguments {'add_special_token': True} not recognized.\n",
            "Keyword arguments {'add_special_token': True} not recognized.\n",
            "Keyword arguments {'add_special_token': True} not recognized.\n",
            "Keyword arguments {'add_special_token': True} not recognized.\n",
            "Keyword arguments {'add_special_token': True} not recognized.\n",
            "Keyword arguments {'add_special_token': True} not recognized.\n",
            "Keyword arguments {'add_special_token': True} not recognized.\n",
            "Keyword arguments {'add_special_token': True} not recognized.\n",
            "Keyword arguments {'add_special_token': True} not recognized.\n",
            "Keyword arguments {'add_special_token': True} not recognized.\n",
            "Keyword arguments {'add_special_token': True} not recognized.\n",
            "Keyword arguments {'add_special_token': True} not recognized.\n",
            "Keyword arguments {'add_special_token': True} not recognized.\n",
            "Keyword arguments {'add_special_token': True} not recognized.\n",
            "Keyword arguments {'add_special_token': True} not recognized.\n",
            "Keyword arguments {'add_special_token': True} not recognized.\n",
            "Keyword arguments {'add_special_token': True} not recognized.\n",
            "Keyword arguments {'add_special_token': True} not recognized.\n",
            "Keyword arguments {'add_special_token': True} not recognized.\n",
            "Keyword arguments {'add_special_token': True} not recognized.\n",
            "Keyword arguments {'add_special_token': True} not recognized.\n",
            "Keyword arguments {'add_special_token': True} not recognized.\n",
            "Keyword arguments {'add_special_token': True} not recognized.\n",
            "Keyword arguments {'add_special_token': True} not recognized.\n",
            "Keyword arguments {'add_special_token': True} not recognized.\n",
            "Keyword arguments {'add_special_token': True} not recognized.\n",
            "Keyword arguments {'add_special_token': True} not recognized.\n",
            "Keyword arguments {'add_special_token': True} not recognized.\n",
            "Keyword arguments {'add_special_token': True} not recognized.\n",
            "Keyword arguments {'add_special_token': True} not recognized.\n",
            "Keyword arguments {'add_special_token': True} not recognized.\n",
            "Keyword arguments {'add_special_token': True} not recognized.\n",
            "Keyword arguments {'add_special_token': True} not recognized.\n",
            "Keyword arguments {'add_special_token': True} not recognized.\n",
            "Keyword arguments {'add_special_token': True} not recognized.\n",
            "Keyword arguments {'add_special_token': True} not recognized.\n",
            "Keyword arguments {'add_special_token': True} not recognized.\n",
            "Keyword arguments {'add_special_token': True} not recognized.\n",
            "Keyword arguments {'add_special_token': True} not recognized.\n",
            "Keyword arguments {'add_special_token': True} not recognized.\n",
            "Keyword arguments {'add_special_token': True} not recognized.\n",
            "Keyword arguments {'add_special_token': True} not recognized.\n",
            "Keyword arguments {'add_special_token': True} not recognized.\n",
            "Keyword arguments {'add_special_token': True} not recognized.\n",
            "Keyword arguments {'add_special_token': True} not recognized.\n",
            "Keyword arguments {'add_special_token': True} not recognized.\n",
            "Keyword arguments {'add_special_token': True} not recognized.\n",
            "Keyword arguments {'add_special_token': True} not recognized.\n",
            "Keyword arguments {'add_special_token': True} not recognized.\n",
            "Keyword arguments {'add_special_token': True} not recognized.\n",
            "Keyword arguments {'add_special_token': True} not recognized.\n",
            "Keyword arguments {'add_special_token': True} not recognized.\n",
            "Keyword arguments {'add_special_token': True} not recognized.\n",
            "Keyword arguments {'add_special_token': True} not recognized.\n",
            "Keyword arguments {'add_special_token': True} not recognized.\n",
            "Keyword arguments {'add_special_token': True} not recognized.\n",
            "Keyword arguments {'add_special_token': True} not recognized.\n",
            "Keyword arguments {'add_special_token': True} not recognized.\n",
            "Keyword arguments {'add_special_token': True} not recognized.\n",
            "Keyword arguments {'add_special_token': True} not recognized.\n",
            "Keyword arguments {'add_special_token': True} not recognized.\n",
            "Keyword arguments {'add_special_token': True} not recognized.\n",
            "Keyword arguments {'add_special_token': True} not recognized.\n",
            "Keyword arguments {'add_special_token': True} not recognized.\n",
            "Keyword arguments {'add_special_token': True} not recognized.\n",
            "Keyword arguments {'add_special_token': True} not recognized.\n",
            "Keyword arguments {'add_special_token': True} not recognized.\n",
            "Keyword arguments {'add_special_token': True} not recognized.\n",
            "Keyword arguments {'add_special_token': True} not recognized.\n",
            "Keyword arguments {'add_special_token': True} not recognized.\n",
            "Keyword arguments {'add_special_token': True} not recognized.\n",
            "Keyword arguments {'add_special_token': True} not recognized.\n",
            "Keyword arguments {'add_special_token': True} not recognized.\n",
            "Keyword arguments {'add_special_token': True} not recognized.\n",
            "Keyword arguments {'add_special_token': True} not recognized.\n",
            "Keyword arguments {'add_special_token': True} not recognized.\n",
            "Keyword arguments {'add_special_token': True} not recognized.\n",
            "Keyword arguments {'add_special_token': True} not recognized.\n",
            "Keyword arguments {'add_special_token': True} not recognized.\n",
            "Keyword arguments {'add_special_token': True} not recognized.\n",
            "Keyword arguments {'add_special_token': True} not recognized.\n",
            "Keyword arguments {'add_special_token': True} not recognized.\n",
            "Keyword arguments {'add_special_token': True} not recognized.\n",
            "Keyword arguments {'add_special_token': True} not recognized.\n",
            "Keyword arguments {'add_special_token': True} not recognized.\n",
            "Keyword arguments {'add_special_token': True} not recognized.\n",
            "Keyword arguments {'add_special_token': True} not recognized.\n",
            "Keyword arguments {'add_special_token': True} not recognized.\n",
            "Keyword arguments {'add_special_token': True} not recognized.\n",
            "Keyword arguments {'add_special_token': True} not recognized.\n",
            "Keyword arguments {'add_special_token': True} not recognized.\n",
            "Keyword arguments {'add_special_token': True} not recognized.\n",
            "Keyword arguments {'add_special_token': True} not recognized.\n",
            "Keyword arguments {'add_special_token': True} not recognized.\n",
            "Keyword arguments {'add_special_token': True} not recognized.\n",
            "Keyword arguments {'add_special_token': True} not recognized.\n",
            "Keyword arguments {'add_special_token': True} not recognized.\n",
            "Keyword arguments {'add_special_token': True} not recognized.\n",
            "Keyword arguments {'add_special_token': True} not recognized.\n",
            "Keyword arguments {'add_special_token': True} not recognized.\n",
            "Keyword arguments {'add_special_token': True} not recognized.\n",
            "Keyword arguments {'add_special_token': True} not recognized.\n",
            "Keyword arguments {'add_special_token': True} not recognized.\n",
            "Keyword arguments {'add_special_token': True} not recognized.\n",
            "Keyword arguments {'add_special_token': True} not recognized.\n",
            "Keyword arguments {'add_special_token': True} not recognized.\n",
            "Keyword arguments {'add_special_token': True} not recognized.\n",
            "Keyword arguments {'add_special_token': True} not recognized.\n",
            "Keyword arguments {'add_special_token': True} not recognized.\n",
            "Keyword arguments {'add_special_token': True} not recognized.\n",
            "Keyword arguments {'add_special_token': True} not recognized.\n",
            "Keyword arguments {'add_special_token': True} not recognized.\n",
            "Keyword arguments {'add_special_token': True} not recognized.\n",
            "Keyword arguments {'add_special_token': True} not recognized.\n",
            "Keyword arguments {'add_special_token': True} not recognized.\n",
            "Keyword arguments {'add_special_token': True} not recognized.\n",
            "Keyword arguments {'add_special_token': True} not recognized.\n",
            "Keyword arguments {'add_special_token': True} not recognized.\n",
            "Keyword arguments {'add_special_token': True} not recognized.\n",
            "Keyword arguments {'add_special_token': True} not recognized.\n",
            "Keyword arguments {'add_special_token': True} not recognized.\n",
            "Keyword arguments {'add_special_token': True} not recognized.\n",
            "Keyword arguments {'add_special_token': True} not recognized.\n",
            "Keyword arguments {'add_special_token': True} not recognized.\n",
            "Keyword arguments {'add_special_token': True} not recognized.\n",
            "Keyword arguments {'add_special_token': True} not recognized.\n",
            "Keyword arguments {'add_special_token': True} not recognized.\n",
            "Keyword arguments {'add_special_token': True} not recognized.\n",
            "Keyword arguments {'add_special_token': True} not recognized.\n",
            "Keyword arguments {'add_special_token': True} not recognized.\n",
            "Keyword arguments {'add_special_token': True} not recognized.\n",
            "Keyword arguments {'add_special_token': True} not recognized.\n",
            "Keyword arguments {'add_special_token': True} not recognized.\n",
            "Keyword arguments {'add_special_token': True} not recognized.\n",
            "Keyword arguments {'add_special_token': True} not recognized.\n",
            "Keyword arguments {'add_special_token': True} not recognized.\n",
            "Keyword arguments {'add_special_token': True} not recognized.\n",
            "Keyword arguments {'add_special_token': True} not recognized.\n",
            "Keyword arguments {'add_special_token': True} not recognized.\n",
            "Keyword arguments {'add_special_token': True} not recognized.\n",
            "Keyword arguments {'add_special_token': True} not recognized.\n",
            "Keyword arguments {'add_special_token': True} not recognized.\n",
            "Keyword arguments {'add_special_token': True} not recognized.\n",
            "Keyword arguments {'add_special_token': True} not recognized.\n",
            "Keyword arguments {'add_special_token': True} not recognized.\n",
            "Keyword arguments {'add_special_token': True} not recognized.\n",
            "Keyword arguments {'add_special_token': True} not recognized.\n",
            "Keyword arguments {'add_special_token': True} not recognized.\n",
            "Keyword arguments {'add_special_token': True} not recognized.\n",
            "Keyword arguments {'add_special_token': True} not recognized.\n",
            "Keyword arguments {'add_special_token': True} not recognized.\n",
            "Keyword arguments {'add_special_token': True} not recognized.\n",
            "Keyword arguments {'add_special_token': True} not recognized.\n",
            "Keyword arguments {'add_special_token': True} not recognized.\n",
            "Keyword arguments {'add_special_token': True} not recognized.\n",
            "Keyword arguments {'add_special_token': True} not recognized.\n",
            "Keyword arguments {'add_special_token': True} not recognized.\n",
            "Keyword arguments {'add_special_token': True} not recognized.\n",
            "Keyword arguments {'add_special_token': True} not recognized.\n",
            "Keyword arguments {'add_special_token': True} not recognized.\n",
            "Keyword arguments {'add_special_token': True} not recognized.\n",
            "Keyword arguments {'add_special_token': True} not recognized.\n",
            "Keyword arguments {'add_special_token': True} not recognized.\n",
            "Keyword arguments {'add_special_token': True} not recognized.\n",
            "Keyword arguments {'add_special_token': True} not recognized.\n",
            "Keyword arguments {'add_special_token': True} not recognized.\n",
            "Keyword arguments {'add_special_token': True} not recognized.\n",
            "Keyword arguments {'add_special_token': True} not recognized.\n",
            "Keyword arguments {'add_special_token': True} not recognized.\n",
            "Keyword arguments {'add_special_token': True} not recognized.\n",
            "Keyword arguments {'add_special_token': True} not recognized.\n",
            "Keyword arguments {'add_special_token': True} not recognized.\n",
            "Keyword arguments {'add_special_token': True} not recognized.\n",
            "Keyword arguments {'add_special_token': True} not recognized.\n",
            "Keyword arguments {'add_special_token': True} not recognized.\n",
            "Keyword arguments {'add_special_token': True} not recognized.\n",
            "Keyword arguments {'add_special_token': True} not recognized.\n",
            "Keyword arguments {'add_special_token': True} not recognized.\n",
            "Keyword arguments {'add_special_token': True} not recognized.\n",
            "Keyword arguments {'add_special_token': True} not recognized.\n",
            "Keyword arguments {'add_special_token': True} not recognized.\n",
            "Keyword arguments {'add_special_token': True} not recognized.\n",
            "Keyword arguments {'add_special_token': True} not recognized.\n",
            "Keyword arguments {'add_special_token': True} not recognized.\n",
            "Keyword arguments {'add_special_token': True} not recognized.\n",
            "Keyword arguments {'add_special_token': True} not recognized.\n",
            "Keyword arguments {'add_special_token': True} not recognized.\n",
            "Keyword arguments {'add_special_token': True} not recognized.\n",
            "Keyword arguments {'add_special_token': True} not recognized.\n",
            "Keyword arguments {'add_special_token': True} not recognized.\n",
            "Keyword arguments {'add_special_token': True} not recognized.\n",
            "Keyword arguments {'add_special_token': True} not recognized.\n",
            "Keyword arguments {'add_special_token': True} not recognized.\n",
            "Keyword arguments {'add_special_token': True} not recognized.\n",
            "Keyword arguments {'add_special_token': True} not recognized.\n",
            "Keyword arguments {'add_special_token': True} not recognized.\n",
            "Keyword arguments {'add_special_token': True} not recognized.\n",
            "Keyword arguments {'add_special_token': True} not recognized.\n",
            "Keyword arguments {'add_special_token': True} not recognized.\n",
            "Keyword arguments {'add_special_token': True} not recognized.\n",
            "Keyword arguments {'add_special_token': True} not recognized.\n",
            "Keyword arguments {'add_special_token': True} not recognized.\n",
            "Keyword arguments {'add_special_token': True} not recognized.\n",
            "Keyword arguments {'add_special_token': True} not recognized.\n",
            "Keyword arguments {'add_special_token': True} not recognized.\n",
            "Keyword arguments {'add_special_token': True} not recognized.\n",
            "Keyword arguments {'add_special_token': True} not recognized.\n",
            "Keyword arguments {'add_special_token': True} not recognized.\n",
            "Keyword arguments {'add_special_token': True} not recognized.\n",
            "Keyword arguments {'add_special_token': True} not recognized.\n",
            "Keyword arguments {'add_special_token': True} not recognized.\n",
            "Keyword arguments {'add_special_token': True} not recognized.\n",
            "Keyword arguments {'add_special_token': True} not recognized.\n",
            "Keyword arguments {'add_special_token': True} not recognized.\n",
            "Keyword arguments {'add_special_token': True} not recognized.\n",
            "Keyword arguments {'add_special_token': True} not recognized.\n",
            "Keyword arguments {'add_special_token': True} not recognized.\n",
            "Keyword arguments {'add_special_token': True} not recognized.\n",
            "Keyword arguments {'add_special_token': True} not recognized.\n",
            "Keyword arguments {'add_special_token': True} not recognized.\n",
            "Keyword arguments {'add_special_token': True} not recognized.\n",
            "Keyword arguments {'add_special_token': True} not recognized.\n",
            "Keyword arguments {'add_special_token': True} not recognized.\n",
            "Keyword arguments {'add_special_token': True} not recognized.\n",
            "Keyword arguments {'add_special_token': True} not recognized.\n",
            "Keyword arguments {'add_special_token': True} not recognized.\n",
            "Keyword arguments {'add_special_token': True} not recognized.\n",
            "Keyword arguments {'add_special_token': True} not recognized.\n",
            "Keyword arguments {'add_special_token': True} not recognized.\n",
            "Keyword arguments {'add_special_token': True} not recognized.\n",
            "Keyword arguments {'add_special_token': True} not recognized.\n",
            "Keyword arguments {'add_special_token': True} not recognized.\n",
            "Keyword arguments {'add_special_token': True} not recognized.\n",
            "Keyword arguments {'add_special_token': True} not recognized.\n",
            "Keyword arguments {'add_special_token': True} not recognized.\n",
            "Keyword arguments {'add_special_token': True} not recognized.\n",
            "Keyword arguments {'add_special_token': True} not recognized.\n",
            "Keyword arguments {'add_special_token': True} not recognized.\n",
            "Keyword arguments {'add_special_token': True} not recognized.\n",
            "Keyword arguments {'add_special_token': True} not recognized.\n",
            "Keyword arguments {'add_special_token': True} not recognized.\n",
            "Keyword arguments {'add_special_token': True} not recognized.\n",
            "Keyword arguments {'add_special_token': True} not recognized.\n",
            "Keyword arguments {'add_special_token': True} not recognized.\n",
            "Keyword arguments {'add_special_token': True} not recognized.\n",
            "Keyword arguments {'add_special_token': True} not recognized.\n",
            "Keyword arguments {'add_special_token': True} not recognized.\n",
            "Keyword arguments {'add_special_token': True} not recognized.\n",
            "Keyword arguments {'add_special_token': True} not recognized.\n",
            "Keyword arguments {'add_special_token': True} not recognized.\n",
            "Keyword arguments {'add_special_token': True} not recognized.\n",
            "Keyword arguments {'add_special_token': True} not recognized.\n",
            "Keyword arguments {'add_special_token': True} not recognized.\n",
            "Keyword arguments {'add_special_token': True} not recognized.\n",
            "Keyword arguments {'add_special_token': True} not recognized.\n",
            "Keyword arguments {'add_special_token': True} not recognized.\n",
            "Keyword arguments {'add_special_token': True} not recognized.\n",
            "Keyword arguments {'add_special_token': True} not recognized.\n",
            "Keyword arguments {'add_special_token': True} not recognized.\n",
            "Keyword arguments {'add_special_token': True} not recognized.\n",
            "Keyword arguments {'add_special_token': True} not recognized.\n",
            "Keyword arguments {'add_special_token': True} not recognized.\n",
            "Keyword arguments {'add_special_token': True} not recognized.\n",
            "Keyword arguments {'add_special_token': True} not recognized.\n",
            "Keyword arguments {'add_special_token': True} not recognized.\n",
            "Keyword arguments {'add_special_token': True} not recognized.\n",
            "Keyword arguments {'add_special_token': True} not recognized.\n",
            "Keyword arguments {'add_special_token': True} not recognized.\n",
            "Keyword arguments {'add_special_token': True} not recognized.\n",
            "Keyword arguments {'add_special_token': True} not recognized.\n",
            "Keyword arguments {'add_special_token': True} not recognized.\n",
            "Keyword arguments {'add_special_token': True} not recognized.\n",
            "Keyword arguments {'add_special_token': True} not recognized.\n",
            "Keyword arguments {'add_special_token': True} not recognized.\n",
            "Keyword arguments {'add_special_token': True} not recognized.\n",
            "Keyword arguments {'add_special_token': True} not recognized.\n",
            "Keyword arguments {'add_special_token': True} not recognized.\n",
            "Keyword arguments {'add_special_token': True} not recognized.\n",
            "Keyword arguments {'add_special_token': True} not recognized.\n",
            "Keyword arguments {'add_special_token': True} not recognized.\n",
            "Keyword arguments {'add_special_token': True} not recognized.\n",
            "Keyword arguments {'add_special_token': True} not recognized.\n",
            "Keyword arguments {'add_special_token': True} not recognized.\n",
            "Keyword arguments {'add_special_token': True} not recognized.\n",
            "Keyword arguments {'add_special_token': True} not recognized.\n",
            "Keyword arguments {'add_special_token': True} not recognized.\n",
            "Keyword arguments {'add_special_token': True} not recognized.\n",
            "Keyword arguments {'add_special_token': True} not recognized.\n",
            "Keyword arguments {'add_special_token': True} not recognized.\n",
            "Keyword arguments {'add_special_token': True} not recognized.\n",
            "Keyword arguments {'add_special_token': True} not recognized.\n",
            "Keyword arguments {'add_special_token': True} not recognized.\n",
            "Keyword arguments {'add_special_token': True} not recognized.\n",
            "Keyword arguments {'add_special_token': True} not recognized.\n",
            "Keyword arguments {'add_special_token': True} not recognized.\n",
            "Keyword arguments {'add_special_token': True} not recognized.\n",
            "Keyword arguments {'add_special_token': True} not recognized.\n",
            "Keyword arguments {'add_special_token': True} not recognized.\n",
            "Keyword arguments {'add_special_token': True} not recognized.\n",
            "Keyword arguments {'add_special_token': True} not recognized.\n",
            "Keyword arguments {'add_special_token': True} not recognized.\n",
            "Keyword arguments {'add_special_token': True} not recognized.\n",
            "Keyword arguments {'add_special_token': True} not recognized.\n",
            "Keyword arguments {'add_special_token': True} not recognized.\n",
            "Keyword arguments {'add_special_token': True} not recognized.\n",
            "Keyword arguments {'add_special_token': True} not recognized.\n",
            "Keyword arguments {'add_special_token': True} not recognized.\n",
            "Keyword arguments {'add_special_token': True} not recognized.\n",
            "Keyword arguments {'add_special_token': True} not recognized.\n",
            "Keyword arguments {'add_special_token': True} not recognized.\n",
            "Keyword arguments {'add_special_token': True} not recognized.\n",
            "Keyword arguments {'add_special_token': True} not recognized.\n",
            "Keyword arguments {'add_special_token': True} not recognized.\n",
            "Keyword arguments {'add_special_token': True} not recognized.\n",
            "Keyword arguments {'add_special_token': True} not recognized.\n",
            "Keyword arguments {'add_special_token': True} not recognized.\n",
            "Keyword arguments {'add_special_token': True} not recognized.\n",
            "Keyword arguments {'add_special_token': True} not recognized.\n",
            "Keyword arguments {'add_special_token': True} not recognized.\n",
            "Keyword arguments {'add_special_token': True} not recognized.\n",
            "Keyword arguments {'add_special_token': True} not recognized.\n",
            "Keyword arguments {'add_special_token': True} not recognized.\n",
            "Keyword arguments {'add_special_token': True} not recognized.\n",
            "Keyword arguments {'add_special_token': True} not recognized.\n",
            "Keyword arguments {'add_special_token': True} not recognized.\n",
            "Keyword arguments {'add_special_token': True} not recognized.\n",
            "Keyword arguments {'add_special_token': True} not recognized.\n",
            "Keyword arguments {'add_special_token': True} not recognized.\n",
            "Keyword arguments {'add_special_token': True} not recognized.\n",
            "Keyword arguments {'add_special_token': True} not recognized.\n",
            "Keyword arguments {'add_special_token': True} not recognized.\n",
            "Keyword arguments {'add_special_token': True} not recognized.\n",
            "Keyword arguments {'add_special_token': True} not recognized.\n",
            "Keyword arguments {'add_special_token': True} not recognized.\n",
            "Keyword arguments {'add_special_token': True} not recognized.\n",
            "Keyword arguments {'add_special_token': True} not recognized.\n",
            "Keyword arguments {'add_special_token': True} not recognized.\n",
            "Keyword arguments {'add_special_token': True} not recognized.\n",
            "Keyword arguments {'add_special_token': True} not recognized.\n",
            "Keyword arguments {'add_special_token': True} not recognized.\n",
            "Keyword arguments {'add_special_token': True} not recognized.\n",
            "Keyword arguments {'add_special_token': True} not recognized.\n",
            "Keyword arguments {'add_special_token': True} not recognized.\n",
            "Keyword arguments {'add_special_token': True} not recognized.\n",
            "Keyword arguments {'add_special_token': True} not recognized.\n",
            "Keyword arguments {'add_special_token': True} not recognized.\n",
            "Keyword arguments {'add_special_token': True} not recognized.\n",
            "Keyword arguments {'add_special_token': True} not recognized.\n",
            "Keyword arguments {'add_special_token': True} not recognized.\n",
            "Keyword arguments {'add_special_token': True} not recognized.\n",
            "Keyword arguments {'add_special_token': True} not recognized.\n",
            "Keyword arguments {'add_special_token': True} not recognized.\n",
            "Keyword arguments {'add_special_token': True} not recognized.\n",
            "Keyword arguments {'add_special_token': True} not recognized.\n",
            "Keyword arguments {'add_special_token': True} not recognized.\n",
            "Keyword arguments {'add_special_token': True} not recognized.\n",
            "Keyword arguments {'add_special_token': True} not recognized.\n",
            "Keyword arguments {'add_special_token': True} not recognized.\n",
            "Keyword arguments {'add_special_token': True} not recognized.\n",
            "Keyword arguments {'add_special_token': True} not recognized.\n",
            "Keyword arguments {'add_special_token': True} not recognized.\n",
            "Keyword arguments {'add_special_token': True} not recognized.\n",
            "Keyword arguments {'add_special_token': True} not recognized.\n",
            "Keyword arguments {'add_special_token': True} not recognized.\n",
            "Keyword arguments {'add_special_token': True} not recognized.\n",
            "Keyword arguments {'add_special_token': True} not recognized.\n",
            "Keyword arguments {'add_special_token': True} not recognized.\n",
            "Keyword arguments {'add_special_token': True} not recognized.\n",
            "Keyword arguments {'add_special_token': True} not recognized.\n",
            "Keyword arguments {'add_special_token': True} not recognized.\n",
            "Keyword arguments {'add_special_token': True} not recognized.\n",
            "Keyword arguments {'add_special_token': True} not recognized.\n",
            "Keyword arguments {'add_special_token': True} not recognized.\n",
            "Keyword arguments {'add_special_token': True} not recognized.\n",
            "Keyword arguments {'add_special_token': True} not recognized.\n",
            "Keyword arguments {'add_special_token': True} not recognized.\n",
            "Keyword arguments {'add_special_token': True} not recognized.\n",
            "Keyword arguments {'add_special_token': True} not recognized.\n",
            "Keyword arguments {'add_special_token': True} not recognized.\n",
            "Keyword arguments {'add_special_token': True} not recognized.\n",
            "Keyword arguments {'add_special_token': True} not recognized.\n",
            "Keyword arguments {'add_special_token': True} not recognized.\n",
            "Keyword arguments {'add_special_token': True} not recognized.\n",
            "Keyword arguments {'add_special_token': True} not recognized.\n",
            "Keyword arguments {'add_special_token': True} not recognized.\n",
            "Keyword arguments {'add_special_token': True} not recognized.\n",
            "Keyword arguments {'add_special_token': True} not recognized.\n",
            "Keyword arguments {'add_special_token': True} not recognized.\n",
            "Keyword arguments {'add_special_token': True} not recognized.\n",
            "Keyword arguments {'add_special_token': True} not recognized.\n",
            "Keyword arguments {'add_special_token': True} not recognized.\n",
            "Keyword arguments {'add_special_token': True} not recognized.\n",
            "Keyword arguments {'add_special_token': True} not recognized.\n",
            "Keyword arguments {'add_special_token': True} not recognized.\n",
            "Keyword arguments {'add_special_token': True} not recognized.\n",
            "Keyword arguments {'add_special_token': True} not recognized.\n",
            "Keyword arguments {'add_special_token': True} not recognized.\n",
            "Keyword arguments {'add_special_token': True} not recognized.\n",
            "Keyword arguments {'add_special_token': True} not recognized.\n",
            "Keyword arguments {'add_special_token': True} not recognized.\n",
            "Keyword arguments {'add_special_token': True} not recognized.\n",
            "Keyword arguments {'add_special_token': True} not recognized.\n",
            "Keyword arguments {'add_special_token': True} not recognized.\n",
            "Keyword arguments {'add_special_token': True} not recognized.\n",
            "Keyword arguments {'add_special_token': True} not recognized.\n",
            "Keyword arguments {'add_special_token': True} not recognized.\n",
            "Keyword arguments {'add_special_token': True} not recognized.\n",
            "Keyword arguments {'add_special_token': True} not recognized.\n",
            "Keyword arguments {'add_special_token': True} not recognized.\n",
            "Keyword arguments {'add_special_token': True} not recognized.\n",
            "Keyword arguments {'add_special_token': True} not recognized.\n",
            "Keyword arguments {'add_special_token': True} not recognized.\n",
            "Keyword arguments {'add_special_token': True} not recognized.\n",
            "Keyword arguments {'add_special_token': True} not recognized.\n",
            "Keyword arguments {'add_special_token': True} not recognized.\n",
            "Keyword arguments {'add_special_token': True} not recognized.\n",
            "Keyword arguments {'add_special_token': True} not recognized.\n",
            "Keyword arguments {'add_special_token': True} not recognized.\n",
            "Keyword arguments {'add_special_token': True} not recognized.\n",
            "Keyword arguments {'add_special_token': True} not recognized.\n",
            "Keyword arguments {'add_special_token': True} not recognized.\n",
            "Keyword arguments {'add_special_token': True} not recognized.\n",
            "Keyword arguments {'add_special_token': True} not recognized.\n",
            "Keyword arguments {'add_special_token': True} not recognized.\n",
            "Keyword arguments {'add_special_token': True} not recognized.\n",
            "Keyword arguments {'add_special_token': True} not recognized.\n",
            "Keyword arguments {'add_special_token': True} not recognized.\n",
            "Keyword arguments {'add_special_token': True} not recognized.\n",
            "Keyword arguments {'add_special_token': True} not recognized.\n",
            "Keyword arguments {'add_special_token': True} not recognized.\n",
            "Keyword arguments {'add_special_token': True} not recognized.\n",
            "Keyword arguments {'add_special_token': True} not recognized.\n",
            "Keyword arguments {'add_special_token': True} not recognized.\n",
            "Keyword arguments {'add_special_token': True} not recognized.\n",
            "Keyword arguments {'add_special_token': True} not recognized.\n",
            "Keyword arguments {'add_special_token': True} not recognized.\n",
            "Keyword arguments {'add_special_token': True} not recognized.\n",
            "Keyword arguments {'add_special_token': True} not recognized.\n",
            "Keyword arguments {'add_special_token': True} not recognized.\n",
            "Keyword arguments {'add_special_token': True} not recognized.\n",
            "Keyword arguments {'add_special_token': True} not recognized.\n",
            "Keyword arguments {'add_special_token': True} not recognized.\n",
            "Keyword arguments {'add_special_token': True} not recognized.\n",
            "Keyword arguments {'add_special_token': True} not recognized.\n",
            "Keyword arguments {'add_special_token': True} not recognized.\n",
            "Keyword arguments {'add_special_token': True} not recognized.\n",
            "Keyword arguments {'add_special_token': True} not recognized.\n",
            "Keyword arguments {'add_special_token': True} not recognized.\n",
            "Keyword arguments {'add_special_token': True} not recognized.\n",
            "Keyword arguments {'add_special_token': True} not recognized.\n",
            "Keyword arguments {'add_special_token': True} not recognized.\n",
            "Keyword arguments {'add_special_token': True} not recognized.\n",
            "Keyword arguments {'add_special_token': True} not recognized.\n",
            "Keyword arguments {'add_special_token': True} not recognized.\n",
            "Keyword arguments {'add_special_token': True} not recognized.\n",
            "Keyword arguments {'add_special_token': True} not recognized.\n",
            "Keyword arguments {'add_special_token': True} not recognized.\n",
            "Keyword arguments {'add_special_token': True} not recognized.\n",
            "Keyword arguments {'add_special_token': True} not recognized.\n",
            "Keyword arguments {'add_special_token': True} not recognized.\n",
            "Keyword arguments {'add_special_token': True} not recognized.\n",
            "Keyword arguments {'add_special_token': True} not recognized.\n",
            "Keyword arguments {'add_special_token': True} not recognized.\n",
            "Keyword arguments {'add_special_token': True} not recognized.\n",
            "Keyword arguments {'add_special_token': True} not recognized.\n",
            "Keyword arguments {'add_special_token': True} not recognized.\n",
            "Keyword arguments {'add_special_token': True} not recognized.\n",
            "Keyword arguments {'add_special_token': True} not recognized.\n",
            "Keyword arguments {'add_special_token': True} not recognized.\n",
            "Keyword arguments {'add_special_token': True} not recognized.\n",
            "Keyword arguments {'add_special_token': True} not recognized.\n",
            "Keyword arguments {'add_special_token': True} not recognized.\n",
            "Keyword arguments {'add_special_token': True} not recognized.\n",
            "Keyword arguments {'add_special_token': True} not recognized.\n",
            "Keyword arguments {'add_special_token': True} not recognized.\n",
            "Keyword arguments {'add_special_token': True} not recognized.\n",
            "Keyword arguments {'add_special_token': True} not recognized.\n",
            "Keyword arguments {'add_special_token': True} not recognized.\n",
            "Keyword arguments {'add_special_token': True} not recognized.\n",
            "Keyword arguments {'add_special_token': True} not recognized.\n",
            "Keyword arguments {'add_special_token': True} not recognized.\n",
            "Keyword arguments {'add_special_token': True} not recognized.\n",
            "Keyword arguments {'add_special_token': True} not recognized.\n",
            "Keyword arguments {'add_special_token': True} not recognized.\n",
            "Keyword arguments {'add_special_token': True} not recognized.\n",
            "Keyword arguments {'add_special_token': True} not recognized.\n",
            "Keyword arguments {'add_special_token': True} not recognized.\n",
            "Keyword arguments {'add_special_token': True} not recognized.\n",
            "Keyword arguments {'add_special_token': True} not recognized.\n",
            "Keyword arguments {'add_special_token': True} not recognized.\n",
            "Keyword arguments {'add_special_token': True} not recognized.\n",
            "Keyword arguments {'add_special_token': True} not recognized.\n",
            "Keyword arguments {'add_special_token': True} not recognized.\n",
            "Keyword arguments {'add_special_token': True} not recognized.\n",
            "Keyword arguments {'add_special_token': True} not recognized.\n",
            "Keyword arguments {'add_special_token': True} not recognized.\n",
            "Keyword arguments {'add_special_token': True} not recognized.\n",
            "Keyword arguments {'add_special_token': True} not recognized.\n",
            "Keyword arguments {'add_special_token': True} not recognized.\n",
            "Keyword arguments {'add_special_token': True} not recognized.\n",
            "Keyword arguments {'add_special_token': True} not recognized.\n",
            "Keyword arguments {'add_special_token': True} not recognized.\n",
            "Keyword arguments {'add_special_token': True} not recognized.\n",
            "Keyword arguments {'add_special_token': True} not recognized.\n",
            "Keyword arguments {'add_special_token': True} not recognized.\n",
            "Keyword arguments {'add_special_token': True} not recognized.\n",
            "Keyword arguments {'add_special_token': True} not recognized.\n",
            "Keyword arguments {'add_special_token': True} not recognized.\n",
            "Keyword arguments {'add_special_token': True} not recognized.\n",
            "Keyword arguments {'add_special_token': True} not recognized.\n",
            "Keyword arguments {'add_special_token': True} not recognized.\n",
            "Keyword arguments {'add_special_token': True} not recognized.\n",
            "Keyword arguments {'add_special_token': True} not recognized.\n",
            "Keyword arguments {'add_special_token': True} not recognized.\n",
            "Keyword arguments {'add_special_token': True} not recognized.\n",
            "Keyword arguments {'add_special_token': True} not recognized.\n",
            "Keyword arguments {'add_special_token': True} not recognized.\n",
            "Keyword arguments {'add_special_token': True} not recognized.\n",
            "Keyword arguments {'add_special_token': True} not recognized.\n",
            "Keyword arguments {'add_special_token': True} not recognized.\n",
            "Keyword arguments {'add_special_token': True} not recognized.\n",
            "Keyword arguments {'add_special_token': True} not recognized.\n",
            "Keyword arguments {'add_special_token': True} not recognized.\n",
            "Keyword arguments {'add_special_token': True} not recognized.\n",
            "Keyword arguments {'add_special_token': True} not recognized.\n",
            "Keyword arguments {'add_special_token': True} not recognized.\n",
            "Keyword arguments {'add_special_token': True} not recognized.\n",
            "Keyword arguments {'add_special_token': True} not recognized.\n",
            "Keyword arguments {'add_special_token': True} not recognized.\n",
            "Keyword arguments {'add_special_token': True} not recognized.\n",
            "Keyword arguments {'add_special_token': True} not recognized.\n",
            "Keyword arguments {'add_special_token': True} not recognized.\n",
            "Keyword arguments {'add_special_token': True} not recognized.\n",
            "Keyword arguments {'add_special_token': True} not recognized.\n",
            "Keyword arguments {'add_special_token': True} not recognized.\n",
            "Keyword arguments {'add_special_token': True} not recognized.\n",
            "Keyword arguments {'add_special_token': True} not recognized.\n",
            "Keyword arguments {'add_special_token': True} not recognized.\n",
            "Keyword arguments {'add_special_token': True} not recognized.\n",
            "Keyword arguments {'add_special_token': True} not recognized.\n",
            "Keyword arguments {'add_special_token': True} not recognized.\n",
            "Keyword arguments {'add_special_token': True} not recognized.\n",
            "Keyword arguments {'add_special_token': True} not recognized.\n",
            "Keyword arguments {'add_special_token': True} not recognized.\n",
            "Keyword arguments {'add_special_token': True} not recognized.\n",
            "Keyword arguments {'add_special_token': True} not recognized.\n",
            "Keyword arguments {'add_special_token': True} not recognized.\n",
            "Keyword arguments {'add_special_token': True} not recognized.\n",
            "Keyword arguments {'add_special_token': True} not recognized.\n",
            "Keyword arguments {'add_special_token': True} not recognized.\n",
            "Keyword arguments {'add_special_token': True} not recognized.\n",
            "Keyword arguments {'add_special_token': True} not recognized.\n",
            "Keyword arguments {'add_special_token': True} not recognized.\n",
            "Keyword arguments {'add_special_token': True} not recognized.\n",
            "Keyword arguments {'add_special_token': True} not recognized.\n",
            "Keyword arguments {'add_special_token': True} not recognized.\n",
            "Keyword arguments {'add_special_token': True} not recognized.\n",
            "Keyword arguments {'add_special_token': True} not recognized.\n",
            "Keyword arguments {'add_special_token': True} not recognized.\n",
            "Keyword arguments {'add_special_token': True} not recognized.\n",
            "Keyword arguments {'add_special_token': True} not recognized.\n",
            "Keyword arguments {'add_special_token': True} not recognized.\n",
            "Keyword arguments {'add_special_token': True} not recognized.\n",
            "Keyword arguments {'add_special_token': True} not recognized.\n",
            "Keyword arguments {'add_special_token': True} not recognized.\n",
            "Keyword arguments {'add_special_token': True} not recognized.\n",
            "Keyword arguments {'add_special_token': True} not recognized.\n",
            "Keyword arguments {'add_special_token': True} not recognized.\n",
            "Keyword arguments {'add_special_token': True} not recognized.\n",
            "Keyword arguments {'add_special_token': True} not recognized.\n",
            "Keyword arguments {'add_special_token': True} not recognized.\n",
            "Keyword arguments {'add_special_token': True} not recognized.\n",
            "Keyword arguments {'add_special_token': True} not recognized.\n",
            "Keyword arguments {'add_special_token': True} not recognized.\n",
            "Keyword arguments {'add_special_token': True} not recognized.\n",
            "Keyword arguments {'add_special_token': True} not recognized.\n",
            "Keyword arguments {'add_special_token': True} not recognized.\n",
            "Keyword arguments {'add_special_token': True} not recognized.\n",
            "Keyword arguments {'add_special_token': True} not recognized.\n",
            "Keyword arguments {'add_special_token': True} not recognized.\n",
            "Keyword arguments {'add_special_token': True} not recognized.\n",
            "Keyword arguments {'add_special_token': True} not recognized.\n",
            "Keyword arguments {'add_special_token': True} not recognized.\n",
            "Keyword arguments {'add_special_token': True} not recognized.\n",
            "Keyword arguments {'add_special_token': True} not recognized.\n",
            "Keyword arguments {'add_special_token': True} not recognized.\n",
            "Keyword arguments {'add_special_token': True} not recognized.\n",
            "Keyword arguments {'add_special_token': True} not recognized.\n",
            "Keyword arguments {'add_special_token': True} not recognized.\n",
            "Keyword arguments {'add_special_token': True} not recognized.\n",
            "Keyword arguments {'add_special_token': True} not recognized.\n",
            "Keyword arguments {'add_special_token': True} not recognized.\n",
            "Keyword arguments {'add_special_token': True} not recognized.\n",
            "Keyword arguments {'add_special_token': True} not recognized.\n",
            "Keyword arguments {'add_special_token': True} not recognized.\n",
            "Keyword arguments {'add_special_token': True} not recognized.\n",
            "Keyword arguments {'add_special_token': True} not recognized.\n",
            "Keyword arguments {'add_special_token': True} not recognized.\n",
            "Keyword arguments {'add_special_token': True} not recognized.\n",
            "Keyword arguments {'add_special_token': True} not recognized.\n",
            "Keyword arguments {'add_special_token': True} not recognized.\n",
            "Keyword arguments {'add_special_token': True} not recognized.\n",
            "Keyword arguments {'add_special_token': True} not recognized.\n",
            "Keyword arguments {'add_special_token': True} not recognized.\n",
            "Keyword arguments {'add_special_token': True} not recognized.\n",
            "Keyword arguments {'add_special_token': True} not recognized.\n",
            "Keyword arguments {'add_special_token': True} not recognized.\n",
            "Keyword arguments {'add_special_token': True} not recognized.\n",
            "Keyword arguments {'add_special_token': True} not recognized.\n",
            "Keyword arguments {'add_special_token': True} not recognized.\n",
            "Keyword arguments {'add_special_token': True} not recognized.\n",
            "Keyword arguments {'add_special_token': True} not recognized.\n",
            "Keyword arguments {'add_special_token': True} not recognized.\n",
            "Keyword arguments {'add_special_token': True} not recognized.\n",
            "Keyword arguments {'add_special_token': True} not recognized.\n",
            "Keyword arguments {'add_special_token': True} not recognized.\n",
            "Keyword arguments {'add_special_token': True} not recognized.\n",
            "Keyword arguments {'add_special_token': True} not recognized.\n",
            "Keyword arguments {'add_special_token': True} not recognized.\n",
            "Keyword arguments {'add_special_token': True} not recognized.\n",
            "Keyword arguments {'add_special_token': True} not recognized.\n",
            "Keyword arguments {'add_special_token': True} not recognized.\n",
            "Keyword arguments {'add_special_token': True} not recognized.\n",
            "Keyword arguments {'add_special_token': True} not recognized.\n",
            "Keyword arguments {'add_special_token': True} not recognized.\n",
            "Keyword arguments {'add_special_token': True} not recognized.\n",
            "Keyword arguments {'add_special_token': True} not recognized.\n",
            "Keyword arguments {'add_special_token': True} not recognized.\n",
            "Keyword arguments {'add_special_token': True} not recognized.\n",
            "Keyword arguments {'add_special_token': True} not recognized.\n",
            "Keyword arguments {'add_special_token': True} not recognized.\n",
            "Keyword arguments {'add_special_token': True} not recognized.\n",
            "Keyword arguments {'add_special_token': True} not recognized.\n",
            "Keyword arguments {'add_special_token': True} not recognized.\n",
            "Keyword arguments {'add_special_token': True} not recognized.\n",
            "Keyword arguments {'add_special_token': True} not recognized.\n",
            "Keyword arguments {'add_special_token': True} not recognized.\n",
            "Keyword arguments {'add_special_token': True} not recognized.\n",
            "Keyword arguments {'add_special_token': True} not recognized.\n",
            "Keyword arguments {'add_special_token': True} not recognized.\n",
            "Keyword arguments {'add_special_token': True} not recognized.\n",
            "Keyword arguments {'add_special_token': True} not recognized.\n",
            "Keyword arguments {'add_special_token': True} not recognized.\n",
            "Keyword arguments {'add_special_token': True} not recognized.\n",
            "Keyword arguments {'add_special_token': True} not recognized.\n",
            "Keyword arguments {'add_special_token': True} not recognized.\n",
            "Keyword arguments {'add_special_token': True} not recognized.\n",
            "Keyword arguments {'add_special_token': True} not recognized.\n",
            "Keyword arguments {'add_special_token': True} not recognized.\n",
            "Keyword arguments {'add_special_token': True} not recognized.\n",
            "Keyword arguments {'add_special_token': True} not recognized.\n",
            "Keyword arguments {'add_special_token': True} not recognized.\n",
            "Keyword arguments {'add_special_token': True} not recognized.\n",
            "Keyword arguments {'add_special_token': True} not recognized.\n",
            "Keyword arguments {'add_special_token': True} not recognized.\n",
            "Keyword arguments {'add_special_token': True} not recognized.\n",
            "Keyword arguments {'add_special_token': True} not recognized.\n",
            "Keyword arguments {'add_special_token': True} not recognized.\n",
            "Keyword arguments {'add_special_token': True} not recognized.\n",
            "Keyword arguments {'add_special_token': True} not recognized.\n",
            "Keyword arguments {'add_special_token': True} not recognized.\n",
            "Keyword arguments {'add_special_token': True} not recognized.\n",
            "Keyword arguments {'add_special_token': True} not recognized.\n",
            "Keyword arguments {'add_special_token': True} not recognized.\n",
            "Keyword arguments {'add_special_token': True} not recognized.\n",
            "Keyword arguments {'add_special_token': True} not recognized.\n",
            "Keyword arguments {'add_special_token': True} not recognized.\n",
            "Keyword arguments {'add_special_token': True} not recognized.\n",
            "Keyword arguments {'add_special_token': True} not recognized.\n",
            "Keyword arguments {'add_special_token': True} not recognized.\n",
            "Keyword arguments {'add_special_token': True} not recognized.\n",
            "Keyword arguments {'add_special_token': True} not recognized.\n",
            "Keyword arguments {'add_special_token': True} not recognized.\n",
            "Keyword arguments {'add_special_token': True} not recognized.\n",
            "Keyword arguments {'add_special_token': True} not recognized.\n",
            "Keyword arguments {'add_special_token': True} not recognized.\n",
            "Keyword arguments {'add_special_token': True} not recognized.\n",
            "Keyword arguments {'add_special_token': True} not recognized.\n",
            "Keyword arguments {'add_special_token': True} not recognized.\n",
            "Keyword arguments {'add_special_token': True} not recognized.\n",
            "Keyword arguments {'add_special_token': True} not recognized.\n",
            "Keyword arguments {'add_special_token': True} not recognized.\n",
            "Keyword arguments {'add_special_token': True} not recognized.\n",
            "Keyword arguments {'add_special_token': True} not recognized.\n",
            "Keyword arguments {'add_special_token': True} not recognized.\n",
            "Keyword arguments {'add_special_token': True} not recognized.\n",
            "Keyword arguments {'add_special_token': True} not recognized.\n",
            "Keyword arguments {'add_special_token': True} not recognized.\n",
            "Keyword arguments {'add_special_token': True} not recognized.\n",
            "Keyword arguments {'add_special_token': True} not recognized.\n",
            "Keyword arguments {'add_special_token': True} not recognized.\n",
            "Keyword arguments {'add_special_token': True} not recognized.\n",
            "Keyword arguments {'add_special_token': True} not recognized.\n",
            "Keyword arguments {'add_special_token': True} not recognized.\n",
            "Keyword arguments {'add_special_token': True} not recognized.\n",
            "Keyword arguments {'add_special_token': True} not recognized.\n",
            "Keyword arguments {'add_special_token': True} not recognized.\n",
            "Keyword arguments {'add_special_token': True} not recognized.\n",
            "Keyword arguments {'add_special_token': True} not recognized.\n",
            "Keyword arguments {'add_special_token': True} not recognized.\n",
            "Keyword arguments {'add_special_token': True} not recognized.\n",
            "Keyword arguments {'add_special_token': True} not recognized.\n",
            "Keyword arguments {'add_special_token': True} not recognized.\n",
            "Keyword arguments {'add_special_token': True} not recognized.\n",
            "Keyword arguments {'add_special_token': True} not recognized.\n",
            "Keyword arguments {'add_special_token': True} not recognized.\n",
            "Keyword arguments {'add_special_token': True} not recognized.\n",
            "Keyword arguments {'add_special_token': True} not recognized.\n",
            "Keyword arguments {'add_special_token': True} not recognized.\n",
            "Keyword arguments {'add_special_token': True} not recognized.\n",
            "Keyword arguments {'add_special_token': True} not recognized.\n",
            "Keyword arguments {'add_special_token': True} not recognized.\n",
            "Keyword arguments {'add_special_token': True} not recognized.\n",
            "Keyword arguments {'add_special_token': True} not recognized.\n",
            "Keyword arguments {'add_special_token': True} not recognized.\n",
            "Keyword arguments {'add_special_token': True} not recognized.\n",
            "Keyword arguments {'add_special_token': True} not recognized.\n",
            "Keyword arguments {'add_special_token': True} not recognized.\n",
            "Keyword arguments {'add_special_token': True} not recognized.\n",
            "Keyword arguments {'add_special_token': True} not recognized.\n",
            "Keyword arguments {'add_special_token': True} not recognized.\n",
            "Keyword arguments {'add_special_token': True} not recognized.\n",
            "Keyword arguments {'add_special_token': True} not recognized.\n",
            "Keyword arguments {'add_special_token': True} not recognized.\n",
            "Keyword arguments {'add_special_token': True} not recognized.\n",
            "Keyword arguments {'add_special_token': True} not recognized.\n",
            "Keyword arguments {'add_special_token': True} not recognized.\n",
            "Keyword arguments {'add_special_token': True} not recognized.\n",
            "Keyword arguments {'add_special_token': True} not recognized.\n",
            "Keyword arguments {'add_special_token': True} not recognized.\n",
            "Keyword arguments {'add_special_token': True} not recognized.\n",
            "Keyword arguments {'add_special_token': True} not recognized.\n",
            "Keyword arguments {'add_special_token': True} not recognized.\n",
            "Keyword arguments {'add_special_token': True} not recognized.\n",
            "Keyword arguments {'add_special_token': True} not recognized.\n",
            "Keyword arguments {'add_special_token': True} not recognized.\n",
            "Keyword arguments {'add_special_token': True} not recognized.\n",
            "Keyword arguments {'add_special_token': True} not recognized.\n",
            "Keyword arguments {'add_special_token': True} not recognized.\n",
            "Keyword arguments {'add_special_token': True} not recognized.\n",
            "Keyword arguments {'add_special_token': True} not recognized.\n",
            "Keyword arguments {'add_special_token': True} not recognized.\n",
            "Keyword arguments {'add_special_token': True} not recognized.\n",
            "Keyword arguments {'add_special_token': True} not recognized.\n",
            "Keyword arguments {'add_special_token': True} not recognized.\n",
            "Keyword arguments {'add_special_token': True} not recognized.\n",
            "Keyword arguments {'add_special_token': True} not recognized.\n",
            "Keyword arguments {'add_special_token': True} not recognized.\n",
            "Keyword arguments {'add_special_token': True} not recognized.\n",
            "Keyword arguments {'add_special_token': True} not recognized.\n",
            "Keyword arguments {'add_special_token': True} not recognized.\n",
            "Keyword arguments {'add_special_token': True} not recognized.\n",
            "Keyword arguments {'add_special_token': True} not recognized.\n",
            "Keyword arguments {'add_special_token': True} not recognized.\n",
            "Keyword arguments {'add_special_token': True} not recognized.\n",
            "Keyword arguments {'add_special_token': True} not recognized.\n",
            "Keyword arguments {'add_special_token': True} not recognized.\n",
            "Keyword arguments {'add_special_token': True} not recognized.\n",
            "Keyword arguments {'add_special_token': True} not recognized.\n",
            "Keyword arguments {'add_special_token': True} not recognized.\n",
            "Keyword arguments {'add_special_token': True} not recognized.\n",
            "Keyword arguments {'add_special_token': True} not recognized.\n",
            "Keyword arguments {'add_special_token': True} not recognized.\n",
            "Keyword arguments {'add_special_token': True} not recognized.\n",
            "Keyword arguments {'add_special_token': True} not recognized.\n",
            "Keyword arguments {'add_special_token': True} not recognized.\n",
            "Keyword arguments {'add_special_token': True} not recognized.\n",
            "Keyword arguments {'add_special_token': True} not recognized.\n",
            "Keyword arguments {'add_special_token': True} not recognized.\n",
            "Keyword arguments {'add_special_token': True} not recognized.\n",
            "Keyword arguments {'add_special_token': True} not recognized.\n",
            "Keyword arguments {'add_special_token': True} not recognized.\n",
            "Keyword arguments {'add_special_token': True} not recognized.\n",
            "Keyword arguments {'add_special_token': True} not recognized.\n",
            "Keyword arguments {'add_special_token': True} not recognized.\n",
            "Keyword arguments {'add_special_token': True} not recognized.\n",
            "Keyword arguments {'add_special_token': True} not recognized.\n",
            "Keyword arguments {'add_special_token': True} not recognized.\n",
            "Keyword arguments {'add_special_token': True} not recognized.\n",
            "Keyword arguments {'add_special_token': True} not recognized.\n",
            "Keyword arguments {'add_special_token': True} not recognized.\n",
            "Keyword arguments {'add_special_token': True} not recognized.\n",
            "Keyword arguments {'add_special_token': True} not recognized.\n",
            "Keyword arguments {'add_special_token': True} not recognized.\n",
            "Keyword arguments {'add_special_token': True} not recognized.\n",
            "Keyword arguments {'add_special_token': True} not recognized.\n",
            "Keyword arguments {'add_special_token': True} not recognized.\n",
            "Keyword arguments {'add_special_token': True} not recognized.\n",
            "Keyword arguments {'add_special_token': True} not recognized.\n",
            "Keyword arguments {'add_special_token': True} not recognized.\n",
            "Keyword arguments {'add_special_token': True} not recognized.\n",
            "Keyword arguments {'add_special_token': True} not recognized.\n",
            "Keyword arguments {'add_special_token': True} not recognized.\n",
            "Keyword arguments {'add_special_token': True} not recognized.\n",
            "Keyword arguments {'add_special_token': True} not recognized.\n",
            "Keyword arguments {'add_special_token': True} not recognized.\n",
            "Keyword arguments {'add_special_token': True} not recognized.\n",
            "Keyword arguments {'add_special_token': True} not recognized.\n",
            "Keyword arguments {'add_special_token': True} not recognized.\n",
            "Keyword arguments {'add_special_token': True} not recognized.\n",
            "Keyword arguments {'add_special_token': True} not recognized.\n",
            "Keyword arguments {'add_special_token': True} not recognized.\n",
            "Keyword arguments {'add_special_token': True} not recognized.\n",
            "Keyword arguments {'add_special_token': True} not recognized.\n",
            "Keyword arguments {'add_special_token': True} not recognized.\n",
            "Keyword arguments {'add_special_token': True} not recognized.\n",
            "Keyword arguments {'add_special_token': True} not recognized.\n",
            "Keyword arguments {'add_special_token': True} not recognized.\n",
            "Keyword arguments {'add_special_token': True} not recognized.\n",
            "Keyword arguments {'add_special_token': True} not recognized.\n",
            "Keyword arguments {'add_special_token': True} not recognized.\n",
            "Keyword arguments {'add_special_token': True} not recognized.\n",
            "Keyword arguments {'add_special_token': True} not recognized.\n",
            "Keyword arguments {'add_special_token': True} not recognized.\n",
            "Keyword arguments {'add_special_token': True} not recognized.\n",
            "Keyword arguments {'add_special_token': True} not recognized.\n",
            "Keyword arguments {'add_special_token': True} not recognized.\n",
            "Keyword arguments {'add_special_token': True} not recognized.\n",
            "Keyword arguments {'add_special_token': True} not recognized.\n",
            "Keyword arguments {'add_special_token': True} not recognized.\n",
            "Keyword arguments {'add_special_token': True} not recognized.\n",
            "Keyword arguments {'add_special_token': True} not recognized.\n",
            "Keyword arguments {'add_special_token': True} not recognized.\n",
            "Keyword arguments {'add_special_token': True} not recognized.\n",
            "Keyword arguments {'add_special_token': True} not recognized.\n",
            "Keyword arguments {'add_special_token': True} not recognized.\n",
            "Keyword arguments {'add_special_token': True} not recognized.\n",
            "Keyword arguments {'add_special_token': True} not recognized.\n",
            "Keyword arguments {'add_special_token': True} not recognized.\n",
            "Keyword arguments {'add_special_token': True} not recognized.\n",
            "Keyword arguments {'add_special_token': True} not recognized.\n",
            "Keyword arguments {'add_special_token': True} not recognized.\n",
            "Keyword arguments {'add_special_token': True} not recognized.\n",
            "Keyword arguments {'add_special_token': True} not recognized.\n",
            "Keyword arguments {'add_special_token': True} not recognized.\n",
            "Keyword arguments {'add_special_token': True} not recognized.\n",
            "Keyword arguments {'add_special_token': True} not recognized.\n",
            "Keyword arguments {'add_special_token': True} not recognized.\n",
            "Keyword arguments {'add_special_token': True} not recognized.\n",
            "Keyword arguments {'add_special_token': True} not recognized.\n",
            "Keyword arguments {'add_special_token': True} not recognized.\n",
            "Keyword arguments {'add_special_token': True} not recognized.\n",
            "Keyword arguments {'add_special_token': True} not recognized.\n",
            "Keyword arguments {'add_special_token': True} not recognized.\n",
            "Keyword arguments {'add_special_token': True} not recognized.\n",
            "Keyword arguments {'add_special_token': True} not recognized.\n",
            "Keyword arguments {'add_special_token': True} not recognized.\n",
            "Keyword arguments {'add_special_token': True} not recognized.\n",
            "Keyword arguments {'add_special_token': True} not recognized.\n",
            "Keyword arguments {'add_special_token': True} not recognized.\n",
            "Keyword arguments {'add_special_token': True} not recognized.\n",
            "Keyword arguments {'add_special_token': True} not recognized.\n",
            "Keyword arguments {'add_special_token': True} not recognized.\n",
            "Keyword arguments {'add_special_token': True} not recognized.\n",
            "Keyword arguments {'add_special_token': True} not recognized.\n",
            "Keyword arguments {'add_special_token': True} not recognized.\n",
            "Keyword arguments {'add_special_token': True} not recognized.\n",
            "Keyword arguments {'add_special_token': True} not recognized.\n",
            "Keyword arguments {'add_special_token': True} not recognized.\n",
            "Keyword arguments {'add_special_token': True} not recognized.\n",
            "Keyword arguments {'add_special_token': True} not recognized.\n",
            "Keyword arguments {'add_special_token': True} not recognized.\n",
            "Keyword arguments {'add_special_token': True} not recognized.\n",
            "Keyword arguments {'add_special_token': True} not recognized.\n",
            "Keyword arguments {'add_special_token': True} not recognized.\n",
            "Keyword arguments {'add_special_token': True} not recognized.\n"
          ]
        }
      ],
      "source": [
        "x_input_ids, x_attn_masks = generate_training_data(df, x_input_ids, x_attn_masks, tokenizer)"
      ]
    },
    {
      "cell_type": "markdown",
      "metadata": {
        "id": "3L5haGssN7_0"
      },
      "source": [
        "## Applying OneHot encodeing on the labels"
      ]
    },
    {
      "cell_type": "code",
      "execution_count": null,
      "metadata": {
        "id": "ev-I_W_gNIVL"
      },
      "outputs": [],
      "source": [
        "from sklearn.preprocessing import OneHotEncoder\n",
        "\n",
        "encoder = OneHotEncoder()\n",
        "labels = encoder.fit_transform((df['label'].to_numpy()).reshape(-1,1))"
      ]
    },
    {
      "cell_type": "code",
      "execution_count": null,
      "metadata": {
        "id": "aEmru0mxB4W3"
      },
      "outputs": [],
      "source": [
        "import pickle\n",
        "with open(\"onehot_encoder_for_BERT_multiclass_classification.pkl\", \"wb\") as f: \n",
        "    pickle.dump(encoder, f)"
      ]
    },
    {
      "cell_type": "code",
      "execution_count": null,
      "metadata": {
        "id": "cV0-xZ5jNpwG"
      },
      "outputs": [],
      "source": [
        "labels = labels.toarray()"
      ]
    },
    {
      "cell_type": "code",
      "execution_count": null,
      "metadata": {
        "colab": {
          "base_uri": "https://localhost:8080/"
        },
        "id": "-Q3CKHvcOVu6",
        "outputId": "bcc570c7-e50d-4b22-d3ad-5c6dfe146b3d"
      },
      "outputs": [
        {
          "output_type": "execute_result",
          "data": {
            "text/plain": [
              "array([[0., 0., 0., 0., 1., 0.],\n",
              "       [0., 0., 0., 0., 1., 0.],\n",
              "       [1., 0., 0., 0., 0., 0.],\n",
              "       ...,\n",
              "       [0., 0., 1., 0., 0., 0.],\n",
              "       [0., 0., 1., 0., 0., 0.],\n",
              "       [0., 0., 1., 0., 0., 0.]])"
            ]
          },
          "metadata": {},
          "execution_count": 17
        }
      ],
      "source": [
        "labels"
      ]
    },
    {
      "cell_type": "markdown",
      "metadata": {
        "id": "cbpdYt0dOQK9"
      },
      "source": [
        "## Creating data slices"
      ]
    },
    {
      "cell_type": "code",
      "execution_count": null,
      "metadata": {
        "id": "aXLH8c8hf-39"
      },
      "outputs": [],
      "source": [
        "dataset = tf.data.Dataset.from_tensor_slices((x_input_ids, x_attn_masks, labels))"
      ]
    },
    {
      "cell_type": "code",
      "execution_count": null,
      "metadata": {
        "colab": {
          "base_uri": "https://localhost:8080/"
        },
        "id": "k9bSzxeCgSZe",
        "outputId": "23deb6c7-c2ac-4494-bb19-d2d75f81dc1a"
      },
      "outputs": [
        {
          "output_type": "execute_result",
          "data": {
            "text/plain": [
              "<_TakeDataset element_spec=(TensorSpec(shape=(256,), dtype=tf.float64, name=None), TensorSpec(shape=(256,), dtype=tf.float64, name=None), TensorSpec(shape=(6,), dtype=tf.float64, name=None))>"
            ]
          },
          "metadata": {},
          "execution_count": 19
        }
      ],
      "source": [
        "dataset.take(1)"
      ]
    },
    {
      "cell_type": "code",
      "execution_count": null,
      "metadata": {
        "id": "_-2smwNEgde9"
      },
      "outputs": [],
      "source": [
        "# map function\n",
        "def SentimentDatasetMapFunction(input_ids, attn_masks, labels):\n",
        "  return {\n",
        "      'input_ids': input_ids,\n",
        "      'attention_mask': attn_masks\n",
        "  }, labels"
      ]
    },
    {
      "cell_type": "code",
      "execution_count": null,
      "metadata": {
        "id": "AdS9uDn_g5Z0"
      },
      "outputs": [],
      "source": [
        "dataset = dataset.map(SentimentDatasetMapFunction)"
      ]
    },
    {
      "cell_type": "code",
      "execution_count": null,
      "metadata": {
        "colab": {
          "base_uri": "https://localhost:8080/"
        },
        "id": "al2eqUARhAB2",
        "outputId": "c24ed459-548a-4ead-8da4-afb9b43fb5e4"
      },
      "outputs": [
        {
          "output_type": "execute_result",
          "data": {
            "text/plain": [
              "<_TakeDataset element_spec=({'input_ids': TensorSpec(shape=(256,), dtype=tf.float64, name=None), 'attention_mask': TensorSpec(shape=(256,), dtype=tf.float64, name=None)}, TensorSpec(shape=(6,), dtype=tf.float64, name=None))>"
            ]
          },
          "metadata": {},
          "execution_count": 22
        }
      ],
      "source": [
        "dataset.take(1)"
      ]
    },
    {
      "cell_type": "code",
      "execution_count": null,
      "metadata": {
        "id": "NQprXZmohKDk"
      },
      "outputs": [],
      "source": [
        "dataset = dataset.shuffle(20000).batch(16, drop_remainder=True)"
      ]
    },
    {
      "cell_type": "code",
      "execution_count": null,
      "metadata": {
        "colab": {
          "base_uri": "https://localhost:8080/"
        },
        "id": "ZcD-9hRqpIPy",
        "outputId": "979ab812-e5c9-4c6f-cf59-40c43aca5306"
      },
      "outputs": [
        {
          "output_type": "execute_result",
          "data": {
            "text/plain": [
              "1250"
            ]
          },
          "metadata": {},
          "execution_count": 24
        }
      ],
      "source": [
        "len(dataset)"
      ]
    },
    {
      "cell_type": "code",
      "execution_count": null,
      "metadata": {
        "id": "JIGi5RU8hVME"
      },
      "outputs": [],
      "source": [
        "train_size = int((len(dataset)) * 0.8)"
      ]
    },
    {
      "cell_type": "code",
      "execution_count": null,
      "metadata": {
        "colab": {
          "base_uri": "https://localhost:8080/"
        },
        "id": "E_QEC-FnhhLM",
        "outputId": "b415aefb-6c66-450d-c53c-7f6b76ef24e6"
      },
      "outputs": [
        {
          "output_type": "execute_result",
          "data": {
            "text/plain": [
              "1000"
            ]
          },
          "metadata": {},
          "execution_count": 26
        }
      ],
      "source": [
        "train_size"
      ]
    },
    {
      "cell_type": "code",
      "execution_count": null,
      "metadata": {
        "id": "0WfbmEENhqqc"
      },
      "outputs": [],
      "source": [
        "train_dataset = dataset.take(train_size)\n",
        "val_dataset = dataset.skip(train_size)"
      ]
    },
    {
      "cell_type": "code",
      "execution_count": null,
      "metadata": {
        "colab": {
          "base_uri": "https://localhost:8080/"
        },
        "id": "ajFWcaE4c5A0",
        "outputId": "d04fcfcb-f801-4981-ff1e-996bb4adbd52"
      },
      "outputs": [
        {
          "output_type": "execute_result",
          "data": {
            "text/plain": [
              "1000"
            ]
          },
          "metadata": {},
          "execution_count": 28
        }
      ],
      "source": [
        "len(train_dataset)"
      ]
    },
    {
      "cell_type": "code",
      "execution_count": null,
      "metadata": {
        "colab": {
          "base_uri": "https://localhost:8080/"
        },
        "id": "J3NgrCe1c-ql",
        "outputId": "40066c3d-3ff4-4401-a84e-9acc55602810"
      },
      "outputs": [
        {
          "output_type": "execute_result",
          "data": {
            "text/plain": [
              "250"
            ]
          },
          "metadata": {},
          "execution_count": 29
        }
      ],
      "source": [
        "len(val_dataset)"
      ]
    },
    {
      "cell_type": "markdown",
      "metadata": {
        "id": "MhDdPz9Zh801"
      },
      "source": [
        "## Model creation"
      ]
    },
    {
      "cell_type": "code",
      "execution_count": null,
      "metadata": {
        "id": "sCaBqUvVh75-"
      },
      "outputs": [],
      "source": [
        "from transformers import TFBertModel"
      ]
    },
    {
      "cell_type": "code",
      "execution_count": null,
      "metadata": {
        "colab": {
          "base_uri": "https://localhost:8080/",
          "height": 160,
          "referenced_widgets": [
            "d0148183b6d842a2b5fe2aee36db3795",
            "af74ec0644bd4511bdb9ad49169fe809",
            "a7111715e00b48e29beddb2be2c9a61b",
            "c17eddb5e1c444928aa651593694afd3",
            "0bfa1100529843039cab29cf6f3cbbac",
            "254d631751924ab5be7e888290105dde",
            "59e79cfdff224b5099689ee1423dfa89",
            "7bdb3693de6549c5b98a0c210681c22a",
            "5089d77b3af74955a34863fd373774ed",
            "570de6fb65c54f7e83544af1c5fba9e8",
            "e40fe2763bdf4829b1429eeded8f5965"
          ]
        },
        "id": "hiVZj7lXiFEM",
        "outputId": "ad331676-c633-45a3-e675-407a0f8c7ddf"
      },
      "outputs": [
        {
          "output_type": "display_data",
          "data": {
            "text/plain": [
              "Downloading tf_model.h5:   0%|          | 0.00/527M [00:00<?, ?B/s]"
            ],
            "application/vnd.jupyter.widget-view+json": {
              "version_major": 2,
              "version_minor": 0,
              "model_id": "d0148183b6d842a2b5fe2aee36db3795"
            }
          },
          "metadata": {}
        },
        {
          "output_type": "stream",
          "name": "stderr",
          "text": [
            "Some layers from the model checkpoint at bert-base-cased were not used when initializing TFBertModel: ['nsp___cls', 'mlm___cls']\n",
            "- This IS expected if you are initializing TFBertModel from the checkpoint of a model trained on another task or with another architecture (e.g. initializing a BertForSequenceClassification model from a BertForPreTraining model).\n",
            "- This IS NOT expected if you are initializing TFBertModel from the checkpoint of a model that you expect to be exactly identical (initializing a BertForSequenceClassification model from a BertForSequenceClassification model).\n",
            "All the layers of TFBertModel were initialized from the model checkpoint at bert-base-cased.\n",
            "If your task is similar to the task the model of the checkpoint was trained on, you can already use TFBertModel for predictions without further training.\n"
          ]
        }
      ],
      "source": [
        "bert_model = TFBertModel.from_pretrained('bert-base-cased')"
      ]
    },
    {
      "cell_type": "code",
      "execution_count": null,
      "metadata": {
        "id": "z6KLEYLni17t"
      },
      "outputs": [],
      "source": [
        "# input layers\n",
        "input_ids = tf.keras.layers.Input(shape=(256,), name='input_ids', dtype='int32')\n",
        "attention_masks = tf.keras.layers.Input(shape=(256,), name='attention_mask', dtype='int32')"
      ]
    },
    {
      "cell_type": "code",
      "execution_count": null,
      "metadata": {
        "id": "SaiWFRpei_F0"
      },
      "outputs": [],
      "source": [
        "bert_embds = bert_model.bert(input_ids, attention_mask=attention_masks)[1]\n",
        "intermediate_layer = tf.keras.layers.Dense(512, activation='relu', name='intermediate_layer')(bert_embds)\n",
        "output_layer = tf.keras.layers.Dense(6, activation='softmax', kernel_regularizer=tf.keras.regularizers.l2(0.01), name='output_layer')(intermediate_layer)"
      ]
    },
    {
      "cell_type": "code",
      "execution_count": null,
      "metadata": {
        "colab": {
          "base_uri": "https://localhost:8080/"
        },
        "id": "6wCfi-Fekqw0",
        "outputId": "2d73f7e8-3adc-483d-d06d-6d4c4043ce94"
      },
      "outputs": [
        {
          "output_type": "stream",
          "name": "stdout",
          "text": [
            "Model: \"model\"\n",
            "__________________________________________________________________________________________________\n",
            " Layer (type)                   Output Shape         Param #     Connected to                     \n",
            "==================================================================================================\n",
            " input_ids (InputLayer)         [(None, 256)]        0           []                               \n",
            "                                                                                                  \n",
            " attention_mask (InputLayer)    [(None, 256)]        0           []                               \n",
            "                                                                                                  \n",
            " bert (TFBertMainLayer)         TFBaseModelOutputWi  108310272   ['input_ids[0][0]',              \n",
            "                                thPoolingAndCrossAt               'attention_mask[0][0]']         \n",
            "                                tentions(last_hidde                                               \n",
            "                                n_state=(None, 256,                                               \n",
            "                                 768),                                                            \n",
            "                                 pooler_output=(Non                                               \n",
            "                                e, 768),                                                          \n",
            "                                 past_key_values=No                                               \n",
            "                                ne, hidden_states=N                                               \n",
            "                                one, attentions=Non                                               \n",
            "                                e, cross_attentions                                               \n",
            "                                =None)                                                            \n",
            "                                                                                                  \n",
            " intermediate_layer (Dense)     (None, 512)          393728      ['bert[0][1]']                   \n",
            "                                                                                                  \n",
            " output_layer (Dense)           (None, 6)            3078        ['intermediate_layer[0][0]']     \n",
            "                                                                                                  \n",
            "==================================================================================================\n",
            "Total params: 108,707,078\n",
            "Trainable params: 108,707,078\n",
            "Non-trainable params: 0\n",
            "__________________________________________________________________________________________________\n"
          ]
        }
      ],
      "source": [
        "model = tf.keras.Model(inputs=[input_ids, attention_masks], outputs=output_layer)\n",
        "model.summary()"
      ]
    },
    {
      "cell_type": "code",
      "execution_count": null,
      "metadata": {
        "id": "lDJig6FulBaM"
      },
      "outputs": [],
      "source": [
        "lr_schedule = tf.keras.optimizers.schedules.ExponentialDecay(\n",
        "    initial_learning_rate=1e-5,\n",
        "    decay_steps=10000,\n",
        "    decay_rate=1e-6)\n",
        "optim = tf.keras.optimizers.Adam(learning_rate=lr_schedule)\n",
        "loss_func = tf.keras.losses.CategoricalCrossentropy()\n",
        "acc = tf.keras.metrics.CategoricalAccuracy('accuracy')"
      ]
    },
    {
      "cell_type": "code",
      "execution_count": null,
      "metadata": {
        "id": "siTQP9XZmP70"
      },
      "outputs": [],
      "source": [
        "model.compile(optimizer=optim, loss=loss_func, metrics=[acc])"
      ]
    },
    {
      "cell_type": "code",
      "execution_count": null,
      "metadata": {
        "colab": {
          "base_uri": "https://localhost:8080/"
        },
        "id": "iC4DzK-smdaN",
        "outputId": "a6a4c3fb-cc70-4db5-c10e-e32598696d43"
      },
      "outputs": [
        {
          "output_type": "stream",
          "name": "stdout",
          "text": [
            "Epoch 1/5\n",
            "1000/1000 [==============================] - 953s 903ms/step - loss: 0.7389 - accuracy: 0.7806 - val_loss: 0.3166 - val_accuracy: 0.9283\n",
            "Epoch 2/5\n",
            "1000/1000 [==============================] - 897s 896ms/step - loss: 0.3377 - accuracy: 0.9172 - val_loss: 0.2638 - val_accuracy: 0.9392\n",
            "Epoch 3/5\n",
            "1000/1000 [==============================] - 889s 889ms/step - loss: 0.2999 - accuracy: 0.9298 - val_loss: 0.2527 - val_accuracy: 0.9405\n",
            "Epoch 4/5\n",
            "1000/1000 [==============================] - 889s 889ms/step - loss: 0.2961 - accuracy: 0.9290 - val_loss: 0.2563 - val_accuracy: 0.9402\n",
            "Epoch 5/5\n",
            "1000/1000 [==============================] - 889s 889ms/step - loss: 0.2856 - accuracy: 0.9319 - val_loss: 0.2484 - val_accuracy: 0.9417\n"
          ]
        }
      ],
      "source": [
        "hist = model.fit(\n",
        "    train_dataset,\n",
        "    validation_data = val_dataset,\n",
        "    epochs = 5\n",
        ")"
      ]
    },
    {
      "cell_type": "code",
      "source": [
        "# Extract training and validation metrics from history\n",
        "train_loss = hist.history['loss']\n",
        "val_loss = hist.history['val_loss']\n",
        "train_acc = hist.history['accuracy']\n",
        "val_acc = hist.history['val_accuracy']\n",
        "\n",
        "# Plot the learning curves\n",
        "plt.figure(figsize=(10, 5))\n",
        "plt.subplot(1, 2, 1)\n",
        "plt.plot(train_loss, label='Training Loss')\n",
        "plt.plot(val_loss, label='Validation Loss')\n",
        "plt.xlabel('Epochs')\n",
        "plt.ylabel('Loss')\n",
        "plt.legend()\n",
        "\n",
        "plt.subplot(1, 2, 2)\n",
        "plt.plot(train_acc, label='Training Accuracy')\n",
        "plt.plot(val_acc, label='Validation Accuracy')\n",
        "plt.xlabel('Epochs')\n",
        "plt.ylabel('Accuracy')\n",
        "plt.legend()\n",
        "\n",
        "plt.tight_layout()\n",
        "plt.show()"
      ],
      "metadata": {
        "colab": {
          "base_uri": "https://localhost:8080/",
          "height": 507
        },
        "id": "mBM-e0c46-hf",
        "outputId": "1c4aa4e1-c3cc-48a6-a3e7-1dd4e097a221"
      },
      "execution_count": null,
      "outputs": [
        {
          "output_type": "display_data",
          "data": {
            "text/plain": [
              "<Figure size 1000x500 with 2 Axes>"
            ],
            "image/png": "[encoded data removed]"
          },
          "metadata": {}
        }
      ]
    },
    {
      "cell_type": "markdown",
      "metadata": {
        "id": "Pm0jhqmEpO_1"
      },
      "source": [
        "## Saving the trained model"
      ]
    },
    {
      "cell_type": "code",
      "execution_count": null,
      "metadata": {
        "colab": {
          "base_uri": "https://localhost:8080/"
        },
        "id": "A9pR0oPhnyuN",
        "outputId": "bab757a8-bb07-4c17-bac7-438afb1a4bcb"
      },
      "outputs": [
        {
          "output_type": "stream",
          "name": "stderr",
          "text": [
            "WARNING:absl:Found untraced functions such as embeddings_layer_call_fn, embeddings_layer_call_and_return_conditional_losses, encoder_layer_call_fn, encoder_layer_call_and_return_conditional_losses, pooler_layer_call_fn while saving (showing 5 of 420). These functions will not be directly callable after loading.\n"
          ]
        }
      ],
      "source": [
        "model.save('/content/drive/MyDrive/Trained Models/bert_sentiment_classifier')"
      ]
    },
    {
      "cell_type": "markdown",
      "metadata": {
        "id": "NU54ZBjgpWIp"
      },
      "source": [
        "## Loading the trained model"
      ]
    },
    {
      "cell_type": "code",
      "execution_count": null,
      "metadata": {
        "colab": {
          "base_uri": "https://localhost:8080/"
        },
        "id": "aN-PsvT0GtVR",
        "outputId": "89c2f947-7f67-412c-c406-3b510bf3a18d"
      },
      "outputs": [
        {
          "output_type": "stream",
          "name": "stdout",
          "text": [
            "Looking in indexes: https://pypi.org/simple, https://us-python.pkg.dev/colab-wheels/public/simple/\n",
            "Collecting transformers\n",
            "  Downloading transformers-4.29.2-py3-none-any.whl (7.1 MB)\n",
            "\u001b[2K     \u001b[90m━━━━━━━━━━━━━━━━━━━━━━━━━━━━━━━━━━━━━━━━\u001b[0m \u001b[32m7.1/7.1 MB\u001b[0m \u001b[31m30.7 MB/s\u001b[0m eta \u001b[36m0:00:00\u001b[0m\n",
            "\u001b[?25hRequirement already satisfied: filelock in /usr/local/lib/python3.10/dist-packages (from transformers) (3.12.0)\n",
            "Collecting huggingface-hub<1.0,>=0.14.1 (from transformers)\n",
            "  Downloading huggingface_hub-0.15.1-py3-none-any.whl (236 kB)\n",
            "\u001b[2K     \u001b[90m━━━━━━━━━━━━━━━━━━━━━━━━━━━━━━━━━━━━━━\u001b[0m \u001b[32m236.8/236.8 kB\u001b[0m \u001b[31m29.4 MB/s\u001b[0m eta \u001b[36m0:00:00\u001b[0m\n",
            "\u001b[?25hRequirement already satisfied: numpy>=1.17 in /usr/local/lib/python3.10/dist-packages (from transformers) (1.22.4)\n",
            "Requirement already satisfied: packaging>=20.0 in /usr/local/lib/python3.10/dist-packages (from transformers) (23.1)\n",
            "Requirement already satisfied: pyyaml>=5.1 in /usr/local/lib/python3.10/dist-packages (from transformers) (6.0)\n",
            "Requirement already satisfied: regex!=2019.12.17 in /usr/local/lib/python3.10/dist-packages (from transformers) (2022.10.31)\n",
            "Requirement already satisfied: requests in /usr/local/lib/python3.10/dist-packages (from transformers) (2.27.1)\n",
            "Collecting tokenizers!=0.11.3,<0.14,>=0.11.1 (from transformers)\n",
            "  Downloading tokenizers-0.13.3-cp310-cp310-manylinux_2_17_x86_64.manylinux2014_x86_64.whl (7.8 MB)\n",
            "\u001b[2K     \u001b[90m━━━━━━━━━━━━━━━━━━━━━━━━━━━━━━━━━━━━━━━━\u001b[0m \u001b[32m7.8/7.8 MB\u001b[0m \u001b[31m108.0 MB/s\u001b[0m eta \u001b[36m0:00:00\u001b[0m\n",
            "\u001b[?25hRequirement already satisfied: tqdm>=4.27 in /usr/local/lib/python3.10/dist-packages (from transformers) (4.65.0)\n",
            "Requirement already satisfied: fsspec in /usr/local/lib/python3.10/dist-packages (from huggingface-hub<1.0,>=0.14.1->transformers) (2023.4.0)\n",
            "Requirement already satisfied: typing-extensions>=3.7.4.3 in /usr/local/lib/python3.10/dist-packages (from huggingface-hub<1.0,>=0.14.1->transformers) (4.5.0)\n",
            "Requirement already satisfied: urllib3<1.27,>=1.21.1 in /usr/local/lib/python3.10/dist-packages (from requests->transformers) (1.26.15)\n",
            "Requirement already satisfied: certifi>=2017.4.17 in /usr/local/lib/python3.10/dist-packages (from requests->transformers) (2022.12.7)\n",
            "Requirement already satisfied: charset-normalizer~=2.0.0 in /usr/local/lib/python3.10/dist-packages (from requests->transformers) (2.0.12)\n",
            "Requirement already satisfied: idna<4,>=2.5 in /usr/local/lib/python3.10/dist-packages (from requests->transformers) (3.4)\n",
            "Installing collected packages: tokenizers, huggingface-hub, transformers\n",
            "Successfully installed huggingface-hub-0.15.1 tokenizers-0.13.3 transformers-4.29.2\n"
          ]
        }
      ],
      "source": [
        "!pip install transformers"
      ]
    },
    {
      "cell_type": "code",
      "execution_count": null,
      "metadata": {
        "id": "1zyynx2EGRae"
      },
      "outputs": [],
      "source": [
        "import pandas as pd\n",
        "import numpy as np\n",
        "import tensorflow as tf\n",
        "from transformers import BertTokenizer\n",
        "import pickle"
      ]
    },
    {
      "cell_type": "code",
      "execution_count": null,
      "metadata": {
        "id": "SzChSYX_otN4"
      },
      "outputs": [],
      "source": [
        "loaded_model = tf.keras.models.load_model('/content/drive/MyDrive/Trained Models/bert_sentiment_classifier')"
      ]
    },
    {
      "cell_type": "code",
      "execution_count": null,
      "metadata": {
        "id": "zZdBCX8LDFSP"
      },
      "outputs": [],
      "source": [
        "with open('/content/drive/MyDrive/Trained Models/onehot_encoder_for_BERT_multiclass_classification.pkl', 'rb') as f:\n",
        "    encoder = pickle.load(f)"
      ]
    },
    {
      "cell_type": "code",
      "execution_count": null,
      "metadata": {
        "id": "ZNbhUYdb-0R-"
      },
      "outputs": [],
      "source": [
        "def get_prediction(input_text):\n",
        "  tokenizer = BertTokenizer.from_pretrained('bert-base-cased')\n",
        "  # creating input ids and attention_masks of the input text\n",
        "  token = tokenizer.encode_plus(\n",
        "      input_text,\n",
        "      max_length=256,\n",
        "      truncation=True,\n",
        "      padding='max_length',\n",
        "      add_special_tokens=True,\n",
        "      return_tensors='tf'\n",
        "  )\n",
        "\n",
        "  tokenized_input_text = {\n",
        "      'input_ids': tf.cast(token.input_ids, tf.float64),\n",
        "      'attention_mask': tf.cast(token.attention_mask, tf.float64)\n",
        "  }\n",
        "\n",
        "  # will give us the probability distributions of each output class\n",
        "  prediction_probabilities = loaded_model.predict(tokenized_input_text)\n",
        "  label = np.zeros(6)\n",
        "  label[np.argmax(prediction_probabilities[0])] = 1.0\n",
        "  label = encoder.inverse_transform(label.reshape(1, -1))\n",
        "  return label"
      ]
    },
    {
      "cell_type": "code",
      "execution_count": null,
      "metadata": {
        "id": "DyJu6fVUE10Z",
        "colab": {
          "base_uri": "https://localhost:8080/"
        },
        "outputId": "fbcffa73-c860-4d60-f454-85e268b8b42c"
      },
      "outputs": [
        {
          "output_type": "stream",
          "name": "stdout",
          "text": [
            "The turbulent sea of emotions churned within her, as conflicting currents of sorrow and gratitude collided, leaving her stranded on the shores of ambivalence, where the waves of joy crashed against the cliffs of despair.\n",
            "1/1 [==============================] - 0s 101ms/step\n",
            "sadness\n"
          ]
        }
      ],
      "source": [
        "print(get_prediction(input())[0][0])"
      ]
    },
    {
      "cell_type": "markdown",
      "metadata": {
        "id": "sH3DBWnQFbIb"
      },
      "source": [
        "## Divide datset into 5 parts and generating prediction"
      ]
    },
    {
      "cell_type": "code",
      "execution_count": null,
      "metadata": {
        "id": "PpMrlzyeF1ec"
      },
      "outputs": [],
      "source": [
        "dataset = pd.read_csv('Emotion Dataset (English Text).csv', index_col=0)"
      ]
    },
    {
      "cell_type": "code",
      "execution_count": null,
      "metadata": {
        "colab": {
          "base_uri": "https://localhost:8080/"
        },
        "id": "EQ60RX8wFajz",
        "outputId": "d9c138d6-fc99-42aa-d023-9955843212aa"
      },
      "outputs": [
        {
          "output_type": "stream",
          "name": "stdout",
          "text": [
            "(100, 2)\n",
            "(100, 2)\n",
            "(100, 2)\n",
            "(100, 2)\n",
            "(100, 2)\n"
          ]
        }
      ],
      "source": [
        "data_1 = dataset.iloc[:100, :]\n",
        "data_2 = dataset.iloc[100:200, :]\n",
        "data_3 = dataset.iloc[200:300, :]\n",
        "data_4 = dataset.iloc[300:400, :]\n",
        "data_5 = dataset.iloc[400:500, :]\n",
        "\n",
        "print(data_1.shape)\n",
        "print(data_2.shape)\n",
        "print(data_3.shape)\n",
        "print(data_4.shape)\n",
        "print(data_5.shape)"
      ]
    },
    {
      "cell_type": "code",
      "execution_count": null,
      "metadata": {
        "colab": {
          "base_uri": "https://localhost:8080/"
        },
        "collapsed": true,
        "id": "BNrKyGfJHtdB",
        "outputId": "e77deb89-8e3c-4a30-efa6-a30b4c039055"
      },
      "outputs": [
        {
          "output_type": "stream",
          "name": "stdout",
          "text": [
            "1/1 [==============================] - 0s 72ms/step\n",
            "1/1 [==============================] - 0s 71ms/step\n",
            "1/1 [==============================] - 0s 67ms/step\n",
            "1/1 [==============================] - 0s 77ms/step\n",
            "1/1 [==============================] - 0s 68ms/step\n",
            "1/1 [==============================] - 0s 69ms/step\n",
            "1/1 [==============================] - 0s 70ms/step\n",
            "1/1 [==============================] - 0s 67ms/step\n",
            "1/1 [==============================] - 0s 69ms/step\n",
            "1/1 [==============================] - 0s 67ms/step\n",
            "1/1 [==============================] - 0s 71ms/step\n",
            "1/1 [==============================] - 0s 70ms/step\n",
            "1/1 [==============================] - 0s 69ms/step\n",
            "1/1 [==============================] - 0s 76ms/step\n",
            "1/1 [==============================] - 0s 71ms/step\n",
            "1/1 [==============================] - 0s 66ms/step\n",
            "1/1 [==============================] - 0s 73ms/step\n",
            "1/1 [==============================] - 0s 69ms/step\n",
            "1/1 [==============================] - 0s 71ms/step\n",
            "1/1 [==============================] - 0s 67ms/step\n",
            "1/1 [==============================] - 0s 70ms/step\n",
            "1/1 [==============================] - 0s 68ms/step\n",
            "1/1 [==============================] - 0s 68ms/step\n",
            "1/1 [==============================] - 0s 76ms/step\n",
            "1/1 [==============================] - 0s 69ms/step\n",
            "1/1 [==============================] - 0s 73ms/step\n",
            "1/1 [==============================] - 0s 68ms/step\n",
            "1/1 [==============================] - 0s 76ms/step\n",
            "1/1 [==============================] - 0s 69ms/step\n",
            "1/1 [==============================] - 0s 66ms/step\n",
            "1/1 [==============================] - 0s 71ms/step\n",
            "1/1 [==============================] - 0s 111ms/step\n",
            "1/1 [==============================] - 0s 93ms/step\n",
            "1/1 [==============================] - 0s 100ms/step\n",
            "1/1 [==============================] - 0s 89ms/step\n",
            "1/1 [==============================] - 0s 94ms/step\n",
            "1/1 [==============================] - 0s 103ms/step\n",
            "1/1 [==============================] - 0s 96ms/step\n",
            "1/1 [==============================] - 0s 105ms/step\n",
            "1/1 [==============================] - 0s 101ms/step\n",
            "1/1 [==============================] - 0s 93ms/step\n",
            "1/1 [==============================] - 0s 104ms/step\n",
            "1/1 [==============================] - 0s 101ms/step\n",
            "1/1 [==============================] - 0s 91ms/step\n",
            "1/1 [==============================] - 0s 69ms/step\n",
            "1/1 [==============================] - 0s 69ms/step\n",
            "1/1 [==============================] - 0s 67ms/step\n",
            "1/1 [==============================] - 0s 74ms/step\n",
            "1/1 [==============================] - 0s 65ms/step\n",
            "1/1 [==============================] - 0s 70ms/step\n",
            "1/1 [==============================] - 0s 69ms/step\n",
            "1/1 [==============================] - 0s 74ms/step\n",
            "1/1 [==============================] - 0s 67ms/step\n",
            "1/1 [==============================] - 0s 67ms/step\n",
            "1/1 [==============================] - 0s 69ms/step\n",
            "1/1 [==============================] - 0s 67ms/step\n",
            "1/1 [==============================] - 0s 73ms/step\n",
            "1/1 [==============================] - 0s 73ms/step\n",
            "1/1 [==============================] - 0s 68ms/step\n",
            "1/1 [==============================] - 0s 74ms/step\n",
            "1/1 [==============================] - 0s 64ms/step\n",
            "1/1 [==============================] - 0s 68ms/step\n",
            "1/1 [==============================] - 0s 68ms/step\n",
            "1/1 [==============================] - 0s 66ms/step\n",
            "1/1 [==============================] - 0s 68ms/step\n",
            "1/1 [==============================] - 0s 66ms/step\n",
            "1/1 [==============================] - 0s 70ms/step\n",
            "1/1 [==============================] - 0s 67ms/step\n",
            "1/1 [==============================] - 0s 68ms/step\n",
            "1/1 [==============================] - 0s 66ms/step\n",
            "1/1 [==============================] - 0s 66ms/step\n",
            "1/1 [==============================] - 0s 66ms/step\n",
            "1/1 [==============================] - 0s 69ms/step\n",
            "1/1 [==============================] - 0s 67ms/step\n",
            "1/1 [==============================] - 0s 75ms/step\n",
            "1/1 [==============================] - 0s 67ms/step\n",
            "1/1 [==============================] - 0s 70ms/step\n",
            "1/1 [==============================] - 0s 68ms/step\n",
            "1/1 [==============================] - 0s 70ms/step\n",
            "1/1 [==============================] - 0s 70ms/step\n",
            "1/1 [==============================] - 0s 68ms/step\n",
            "1/1 [==============================] - 0s 68ms/step\n",
            "1/1 [==============================] - 0s 68ms/step\n",
            "1/1 [==============================] - 0s 70ms/step\n",
            "1/1 [==============================] - 0s 104ms/step\n",
            "1/1 [==============================] - 0s 103ms/step\n",
            "1/1 [==============================] - 0s 99ms/step\n",
            "1/1 [==============================] - 0s 93ms/step\n",
            "1/1 [==============================] - 0s 102ms/step\n",
            "1/1 [==============================] - 0s 101ms/step\n",
            "1/1 [==============================] - 0s 98ms/step\n",
            "1/1 [==============================] - 0s 93ms/step\n",
            "1/1 [==============================] - 0s 102ms/step\n",
            "1/1 [==============================] - 0s 89ms/step\n",
            "1/1 [==============================] - 0s 99ms/step\n",
            "1/1 [==============================] - 0s 98ms/step\n",
            "1/1 [==============================] - 0s 70ms/step\n",
            "1/1 [==============================] - 0s 74ms/step\n",
            "1/1 [==============================] - 0s 68ms/step\n",
            "1/1 [==============================] - 0s 65ms/step\n"
          ]
        }
      ],
      "source": [
        "# generating predictions for data_1\n",
        "predictions = []\n",
        "for text in data_1['text']:\n",
        "  predictions.append(get_prediction(text)[0][0])"
      ]
    },
    {
      "cell_type": "code",
      "execution_count": null,
      "metadata": {
        "colab": {
          "base_uri": "https://localhost:8080/",
          "height": 206
        },
        "id": "0scuPlN0JrCX",
        "outputId": "d6075633-844e-4913-e8fe-18b2324f967e"
      },
      "outputs": [
        {
          "output_type": "execute_result",
          "data": {
            "text/plain": [
              "                                                text    label predictions\n",
              "0                            i didnt feel humiliated  sadness     sadness\n",
              "1  i can go from feeling so hopeless to so damned...  sadness     sadness\n",
              "2   im grabbing a minute to post i feel greedy wrong    anger       anger\n",
              "3  i am ever feeling nostalgic about the fireplac...     love        love\n",
              "4                               i am feeling grouchy    anger       anger"
            ],
            "text/html": [
              "\n",
              "  <div id=\"df-0ae079d5-d89a-49c2-bec9-6f11982ae6f1\">\n",
              "    <div class=\"colab-df-container\">\n",
              "      <div>\n",
              "<style scoped>\n",
              "    .dataframe tbody tr th:only-of-type {\n",
              "        vertical-align: middle;\n",
              "    }\n",
              "\n",
              "    .dataframe tbody tr th {\n",
              "        vertical-align: top;\n",
              "    }\n",
              "\n",
              "    .dataframe thead th {\n",
              "        text-align: right;\n",
              "    }\n",
              "</style>\n",
              "<table border=\"1\" class=\"dataframe\">\n",
              "  <thead>\n",
              "    <tr style=\"text-align: right;\">\n",
              "      <th></th>\n",
              "      <th>text</th>\n",
              "      <th>label</th>\n",
              "      <th>predictions</th>\n",
              "    </tr>\n",
              "  </thead>\n",
              "  <tbody>\n",
              "    <tr>\n",
              "      <th>0</th>\n",
              "      <td>i didnt feel humiliated</td>\n",
              "      <td>sadness</td>\n",
              "      <td>sadness</td>\n",
              "    </tr>\n",
              "    <tr>\n",
              "      <th>1</th>\n",
              "      <td>i can go from feeling so hopeless to so damned...</td>\n",
              "      <td>sadness</td>\n",
              "      <td>sadness</td>\n",
              "    </tr>\n",
              "    <tr>\n",
              "      <th>2</th>\n",
              "      <td>im grabbing a minute to post i feel greedy wrong</td>\n",
              "      <td>anger</td>\n",
              "      <td>anger</td>\n",
              "    </tr>\n",
              "    <tr>\n",
              "      <th>3</th>\n",
              "      <td>i am ever feeling nostalgic about the fireplac...</td>\n",
              "      <td>love</td>\n",
              "      <td>love</td>\n",
              "    </tr>\n",
              "    <tr>\n",
              "      <th>4</th>\n",
              "      <td>i am feeling grouchy</td>\n",
              "      <td>anger</td>\n",
              "      <td>anger</td>\n",
              "    </tr>\n",
              "  </tbody>\n",
              "</table>\n",
              "</div>\n",
              "      <button class=\"colab-df-convert\" onclick=\"convertToInteractive('df-0ae079d5-d89a-49c2-bec9-6f11982ae6f1')\"\n",
              "              title=\"Convert this dataframe to an interactive table.\"\n",
              "              style=\"display:none;\">\n",
              "        \n",
              "  <svg xmlns=\"http://www.w3.org/2000/svg\" height=\"24px\"viewBox=\"0 0 24 24\"\n",
              "       width=\"24px\">\n",
              "    <path d=\"M0 0h24v24H0V0z\" fill=\"none\"/>\n",
              "    <path d=\"M18.56 5.44l.94 2.06.94-2.06 2.06-.94-2.06-.94-.94-2.06-.94 2.06-2.06.94zm-11 1L8.5 8.5l.94-2.06 2.06-.94-2.06-.94L8.5 2.5l-.94 2.06-2.06.94zm10 10l.94 2.06.94-2.06 2.06-.94-2.06-.94-.94-2.06-.94 2.06-2.06.94z\"/><path d=\"M17.41 7.96l-1.37-1.37c-.4-.4-.92-.59-1.43-.59-.52 0-1.04.2-1.43.59L10.3 9.45l-7.72 7.72c-.78.78-.78 2.05 0 2.83L4 21.41c.39.39.9.59 1.41.59.51 0 1.02-.2 1.41-.59l7.78-7.78 2.81-2.81c.8-.78.8-2.07 0-2.86zM5.41 20L4 18.59l7.72-7.72 1.47 1.35L5.41 20z\"/>\n",
              "  </svg>\n",
              "      </button>\n",
              "      \n",
              "  <style>\n",
              "    .colab-df-container {\n",
              "      display:flex;\n",
              "      flex-wrap:wrap;\n",
              "      gap: 12px;\n",
              "    }\n",
              "\n",
              "    .colab-df-convert {\n",
              "      background-color: #E8F0FE;\n",
              "      border: none;\n",
              "      border-radius: 50%;\n",
              "      cursor: pointer;\n",
              "      display: none;\n",
              "      fill: #1967D2;\n",
              "      height: 32px;\n",
              "      padding: 0 0 0 0;\n",
              "      width: 32px;\n",
              "    }\n",
              "\n",
              "    .colab-df-convert:hover {\n",
              "      background-color: #E2EBFA;\n",
              "      box-shadow: 0px 1px 2px rgba(60, 64, 67, 0.3), 0px 1px 3px 1px rgba(60, 64, 67, 0.15);\n",
              "      fill: #174EA6;\n",
              "    }\n",
              "\n",
              "    [theme=dark] .colab-df-convert {\n",
              "      background-color: #3B4455;\n",
              "      fill: #D2E3FC;\n",
              "    }\n",
              "\n",
              "    [theme=dark] .colab-df-convert:hover {\n",
              "      background-color: #434B5C;\n",
              "      box-shadow: 0px 1px 3px 1px rgba(0, 0, 0, 0.15);\n",
              "      filter: drop-shadow(0px 1px 2px rgba(0, 0, 0, 0.3));\n",
              "      fill: #FFFFFF;\n",
              "    }\n",
              "  </style>\n",
              "\n",
              "      <script>\n",
              "        const buttonEl =\n",
              "          document.querySelector('#df-0ae079d5-d89a-49c2-bec9-6f11982ae6f1 button.colab-df-convert');\n",
              "        buttonEl.style.display =\n",
              "          google.colab.kernel.accessAllowed ? 'block' : 'none';\n",
              "\n",
              "        async function convertToInteractive(key) {\n",
              "          const element = document.querySelector('#df-0ae079d5-d89a-49c2-bec9-6f11982ae6f1');\n",
              "          const dataTable =\n",
              "            await google.colab.kernel.invokeFunction('convertToInteractive',\n",
              "                                                     [key], {});\n",
              "          if (!dataTable) return;\n",
              "\n",
              "          const docLinkHtml = 'Like what you see? Visit the ' +\n",
              "            '<a target=\"_blank\" href=https://colab.research.google.com/notebooks/data_table.ipynb>data table notebook</a>'\n",
              "            + ' to learn more about interactive tables.';\n",
              "          element.innerHTML = '';\n",
              "          dataTable['output_type'] = 'display_data';\n",
              "          await google.colab.output.renderOutput(dataTable, element);\n",
              "          const docLink = document.createElement('div');\n",
              "          docLink.innerHTML = docLinkHtml;\n",
              "          element.appendChild(docLink);\n",
              "        }\n",
              "      </script>\n",
              "    </div>\n",
              "  </div>\n",
              "  "
            ]
          },
          "metadata": {},
          "execution_count": 15
        }
      ],
      "source": [
        "predictions = pd.DataFrame(predictions, columns=['predictions'])\n",
        "data_1 = pd.concat([data_1, predictions], axis=1)\n",
        "data_1.head()"
      ]
    },
    {
      "cell_type": "code",
      "execution_count": null,
      "metadata": {
        "id": "yNe-eslpT4uX"
      },
      "outputs": [],
      "source": [
        "match_count = 0\n",
        "non_match_count = 0\n",
        "\n",
        "for label, predictions in zip(data_1['label'], data_1['predictions']):\n",
        "  if label!=predictions:\n",
        "    non_match_count += 1\n",
        "  else:\n",
        "    match_count += 1"
      ]
    },
    {
      "cell_type": "code",
      "execution_count": null,
      "metadata": {
        "colab": {
          "base_uri": "https://localhost:8080/"
        },
        "id": "J_IDH2_fWCHu",
        "outputId": "b8e997af-60eb-406b-b3c7-b60f789f7106"
      },
      "outputs": [
        {
          "output_type": "stream",
          "name": "stdout",
          "text": [
            "Correct predictions: 97\n",
            "Incorrect predictions: 3\n",
            "The accuracy: 0.97\n"
          ]
        }
      ],
      "source": [
        "print('Correct predictions: {}'.format(match_count))\n",
        "print('Incorrect predictions: {}'.format(non_match_count))\n",
        "print('The accuracy: {}'.format(match_count/len(data_1)))"
      ]
    },
    {
      "cell_type": "markdown",
      "metadata": {
        "id": "qXT0yURfaHAH"
      },
      "source": [
        "## Evaluation parameters"
      ]
    },
    {
      "cell_type": "code",
      "execution_count": null,
      "metadata": {
        "id": "SZRDifwjaLN_"
      },
      "outputs": [],
      "source": [
        "import matplotlib.pyplot as plt\n",
        "from sklearn.metrics import accuracy_score, confusion_matrix, ConfusionMatrixDisplay, classification_report, precision_score, recall_score, f1_score"
      ]
    },
    {
      "cell_type": "code",
      "execution_count": null,
      "metadata": {
        "id": "bGvpvCgqcBxg"
      },
      "outputs": [],
      "source": [
        "y_test = data_1['label']\n",
        "y_pred = data_1['predictions']\n",
        "classes = dataset['label'].unique()"
      ]
    },
    {
      "cell_type": "code",
      "execution_count": null,
      "metadata": {
        "colab": {
          "base_uri": "https://localhost:8080/"
        },
        "id": "5q4-61a3bbkv",
        "outputId": "a95fea57-cd0b-4b65-bfb7-080e2c234b58"
      },
      "outputs": [
        {
          "output_type": "stream",
          "name": "stdout",
          "text": [
            "Test set performance for model\n",
            "Accuracy score :  0.97\n",
            "F1 score       :  0.97059477124183\n",
            "Precision score:  0.9732500000000001\n",
            "Recall score   :  0.97\n"
          ]
        }
      ],
      "source": [
        "print('Test set performance for model')\n",
        "print('Accuracy score : ', accuracy_score(y_test, y_pred))\n",
        "print('F1 score       : ', f1_score(y_test, y_pred, average='weighted'))\n",
        "print('Precision score: ', precision_score(y_test, y_pred, average='weighted'))\n",
        "print('Recall score   : ', recall_score(y_test, y_pred, average='weighted'))"
      ]
    },
    {
      "cell_type": "code",
      "execution_count": null,
      "metadata": {
        "colab": {
          "base_uri": "https://localhost:8080/",
          "height": 449
        },
        "id": "c4Yy3JLIcVqX",
        "outputId": "e3e04612-fda1-434b-bdd9-683d6e6b04b5"
      },
      "outputs": [
        {
          "output_type": "display_data",
          "data": {
            "text/plain": [
              "<Figure size 640x480 with 2 Axes>"
            ],
            "image/png": "[encoded data removed]"
          },
          "metadata": {}
        }
      ],
      "source": [
        "# setting confusion matrix parameters\n",
        "cm = confusion_matrix(y_test, y_pred, labels=classes)\n",
        "disp = ConfusionMatrixDisplay(confusion_matrix=cm, display_labels=classes)\n",
        "\n",
        "# showing confusion matrix\n",
        "disp.plot()\n",
        "plt.show()"
      ]
    }
  ],
  "metadata": {
    "accelerator": "GPU",
    "colab": {
      "provenance": [],
      "toc_visible": true,
      "mount_file_id": "1nWCc7S-jp5Y09HxDVUq4Bb4rF9VMgapb",
      "authorship_tag": "ABX9TyMaRMVJgBbxUFEZQQ44FRI3",
      "include_colab_link": true
    },
    "kernelspec": {
      "display_name": "Python 3",
      "name": "python3"
    },
    "language_info": {
      "name": "python"
    },
    "widgets": {
      "application/vnd.jupyter.widget-state+json": {
        "d0148183b6d842a2b5fe2aee36db3795": {
          "model_module": "@jupyter-widgets/controls",
          "model_name": "HBoxModel",
          "model_module_version": "1.5.0",
          "state": {
            "_dom_classes": [],
            "_model_module": "@jupyter-widgets/controls",
            "_model_module_version": "1.5.0",
            "_model_name": "HBoxModel",
            "_view_count": null,
            "_view_module": "@jupyter-widgets/controls",
            "_view_module_version": "1.5.0",
            "_view_name": "HBoxView",
            "box_style": "",
            "children": [
              "IPY_MODEL_af74ec0644bd4511bdb9ad49169fe809",
              "IPY_MODEL_a7111715e00b48e29beddb2be2c9a61b",
              "IPY_MODEL_c17eddb5e1c444928aa651593694afd3"
            ],
            "layout": "IPY_MODEL_0bfa1100529843039cab29cf6f3cbbac"
          }
        },
        "af74ec0644bd4511bdb9ad49169fe809": {
          "model_module": "@jupyter-widgets/controls",
          "model_name": "HTMLModel",
          "model_module_version": "1.5.0",
          "state": {
            "_dom_classes": [],
            "_model_module": "@jupyter-widgets/controls",
            "_model_module_version": "1.5.0",
            "_model_name": "HTMLModel",
            "_view_count": null,
            "_view_module": "@jupyter-widgets/controls",
            "_view_module_version": "1.5.0",
            "_view_name": "HTMLView",
            "description": "",
            "description_tooltip": null,
            "layout": "IPY_MODEL_254d631751924ab5be7e888290105dde",
            "placeholder": "​",
            "style": "IPY_MODEL_59e79cfdff224b5099689ee1423dfa89",
            "value": "Downloading tf_model.h5: 100%"
          }
        },
        "a7111715e00b48e29beddb2be2c9a61b": {
          "model_module": "@jupyter-widgets/controls",
          "model_name": "FloatProgressModel",
          "model_module_version": "1.5.0",
          "state": {
            "_dom_classes": [],
            "_model_module": "@jupyter-widgets/controls",
            "_model_module_version": "1.5.0",
            "_model_name": "FloatProgressModel",
            "_view_count": null,
            "_view_module": "@jupyter-widgets/controls",
            "_view_module_version": "1.5.0",
            "_view_name": "ProgressView",
            "bar_style": "success",
            "description": "",
            "description_tooltip": null,
            "layout": "IPY_MODEL_7bdb3693de6549c5b98a0c210681c22a",
            "max": 526681800,
            "min": 0,
            "orientation": "horizontal",
            "style": "IPY_MODEL_5089d77b3af74955a34863fd373774ed",
            "value": 526681800
          }
        },
        "c17eddb5e1c444928aa651593694afd3": {
          "model_module": "@jupyter-widgets/controls",
          "model_name": "HTMLModel",
          "model_module_version": "1.5.0",
          "state": {
            "_dom_classes": [],
            "_model_module": "@jupyter-widgets/controls",
            "_model_module_version": "1.5.0",
            "_model_name": "HTMLModel",
            "_view_count": null,
            "_view_module": "@jupyter-widgets/controls",
            "_view_module_version": "1.5.0",
            "_view_name": "HTMLView",
            "description": "",
            "description_tooltip": null,
            "layout": "IPY_MODEL_570de6fb65c54f7e83544af1c5fba9e8",
            "placeholder": "​",
            "style": "IPY_MODEL_e40fe2763bdf4829b1429eeded8f5965",
            "value": " 527M/527M [00:06&lt;00:00, 151MB/s]"
          }
        },
        "0bfa1100529843039cab29cf6f3cbbac": {
          "model_module": "@jupyter-widgets/base",
          "model_name": "LayoutModel",
          "model_module_version": "1.2.0",
          "state": {
            "_model_module": "@jupyter-widgets/base",
            "_model_module_version": "1.2.0",
            "_model_name": "LayoutModel",
            "_view_count": null,
            "_view_module": "@jupyter-widgets/base",
            "_view_module_version": "1.2.0",
            "_view_name": "LayoutView",
            "align_content": null,
            "align_items": null,
            "align_self": null,
            "border": null,
            "bottom": null,
            "display": null,
            "flex": null,
            "flex_flow": null,
            "grid_area": null,
            "grid_auto_columns": null,
            "grid_auto_flow": null,
            "grid_auto_rows": null,
            "grid_column": null,
            "grid_gap": null,
            "grid_row": null,
            "grid_template_areas": null,
            "grid_template_columns": null,
            "grid_template_rows": null,
            "height": null,
            "justify_content": null,
            "justify_items": null,
            "left": null,
            "margin": null,
            "max_height": null,
            "max_width": null,
            "min_height": null,
            "min_width": null,
            "object_fit": null,
            "object_position": null,
            "order": null,
            "overflow": null,
            "overflow_x": null,
            "overflow_y": null,
            "padding": null,
            "right": null,
            "top": null,
            "visibility": null,
            "width": null
          }
        },
        "254d631751924ab5be7e888290105dde": {
          "model_module": "@jupyter-widgets/base",
          "model_name": "LayoutModel",
          "model_module_version": "1.2.0",
          "state": {
            "_model_module": "@jupyter-widgets/base",
            "_model_module_version": "1.2.0",
            "_model_name": "LayoutModel",
            "_view_count": null,
            "_view_module": "@jupyter-widgets/base",
            "_view_module_version": "1.2.0",
            "_view_name": "LayoutView",
            "align_content": null,
            "align_items": null,
            "align_self": null,
            "border": null,
            "bottom": null,
            "display": null,
            "flex": null,
            "flex_flow": null,
            "grid_area": null,
            "grid_auto_columns": null,
            "grid_auto_flow": null,
            "grid_auto_rows": null,
            "grid_column": null,
            "grid_gap": null,
            "grid_row": null,
            "grid_template_areas": null,
            "grid_template_columns": null,
            "grid_template_rows": null,
            "height": null,
            "justify_content": null,
            "justify_items": null,
            "left": null,
            "margin": null,
            "max_height": null,
            "max_width": null,
            "min_height": null,
            "min_width": null,
            "object_fit": null,
            "object_position": null,
            "order": null,
            "overflow": null,
            "overflow_x": null,
            "overflow_y": null,
            "padding": null,
            "right": null,
            "top": null,
            "visibility": null,
            "width": null
          }
        },
        "59e79cfdff224b5099689ee1423dfa89": {
          "model_module": "@jupyter-widgets/controls",
          "model_name": "DescriptionStyleModel",
          "model_module_version": "1.5.0",
          "state": {
            "_model_module": "@jupyter-widgets/controls",
            "_model_module_version": "1.5.0",
            "_model_name": "DescriptionStyleModel",
            "_view_count": null,
            "_view_module": "@jupyter-widgets/base",
            "_view_module_version": "1.2.0",
            "_view_name": "StyleView",
            "description_width": ""
          }
        },
        "7bdb3693de6549c5b98a0c210681c22a": {
          "model_module": "@jupyter-widgets/base",
          "model_name": "LayoutModel",
          "model_module_version": "1.2.0",
          "state": {
            "_model_module": "@jupyter-widgets/base",
            "_model_module_version": "1.2.0",
            "_model_name": "LayoutModel",
            "_view_count": null,
            "_view_module": "@jupyter-widgets/base",
            "_view_module_version": "1.2.0",
            "_view_name": "LayoutView",
            "align_content": null,
            "align_items": null,
            "align_self": null,
            "border": null,
            "bottom": null,
            "display": null,
            "flex": null,
            "flex_flow": null,
            "grid_area": null,
            "grid_auto_columns": null,
            "grid_auto_flow": null,
            "grid_auto_rows": null,
            "grid_column": null,
            "grid_gap": null,
            "grid_row": null,
            "grid_template_areas": null,
            "grid_template_columns": null,
            "grid_template_rows": null,
            "height": null,
            "justify_content": null,
            "justify_items": null,
            "left": null,
            "margin": null,
            "max_height": null,
            "max_width": null,
            "min_height": null,
            "min_width": null,
            "object_fit": null,
            "object_position": null,
            "order": null,
            "overflow": null,
            "overflow_x": null,
            "overflow_y": null,
            "padding": null,
            "right": null,
            "top": null,
            "visibility": null,
            "width": null
          }
        },
        "5089d77b3af74955a34863fd373774ed": {
          "model_module": "@jupyter-widgets/controls",
          "model_name": "ProgressStyleModel",
          "model_module_version": "1.5.0",
          "state": {
            "_model_module": "@jupyter-widgets/controls",
            "_model_module_version": "1.5.0",
            "_model_name": "ProgressStyleModel",
            "_view_count": null,
            "_view_module": "@jupyter-widgets/base",
            "_view_module_version": "1.2.0",
            "_view_name": "StyleView",
            "bar_color": null,
            "description_width": ""
          }
        },
        "570de6fb65c54f7e83544af1c5fba9e8": {
          "model_module": "@jupyter-widgets/base",
          "model_name": "LayoutModel",
          "model_module_version": "1.2.0",
          "state": {
            "_model_module": "@jupyter-widgets/base",
            "_model_module_version": "1.2.0",
            "_model_name": "LayoutModel",
            "_view_count": null,
            "_view_module": "@jupyter-widgets/base",
            "_view_module_version": "1.2.0",
            "_view_name": "LayoutView",
            "align_content": null,
            "align_items": null,
            "align_self": null,
            "border": null,
            "bottom": null,
            "display": null,
            "flex": null,
            "flex_flow": null,
            "grid_area": null,
            "grid_auto_columns": null,
            "grid_auto_flow": null,
            "grid_auto_rows": null,
            "grid_column": null,
            "grid_gap": null,
            "grid_row": null,
            "grid_template_areas": null,
            "grid_template_columns": null,
            "grid_template_rows": null,
            "height": null,
            "justify_content": null,
            "justify_items": null,
            "left": null,
            "margin": null,
            "max_height": null,
            "max_width": null,
            "min_height": null,
            "min_width": null,
            "object_fit": null,
            "object_position": null,
            "order": null,
            "overflow": null,
            "overflow_x": null,
            "overflow_y": null,
            "padding": null,
            "right": null,
            "top": null,
            "visibility": null,
            "width": null
          }
        },
        "e40fe2763bdf4829b1429eeded8f5965": {
          "model_module": "@jupyter-widgets/controls",
          "model_name": "DescriptionStyleModel",
          "model_module_version": "1.5.0",
          "state": {
            "_model_module": "@jupyter-widgets/controls",
            "_model_module_version": "1.5.0",
            "_model_name": "DescriptionStyleModel",
            "_view_count": null,
            "_view_module": "@jupyter-widgets/base",
            "_view_module_version": "1.2.0",
            "_view_name": "StyleView",
            "description_width": ""
          }
        }
      }
    }
  },
  "nbformat": 4,
  "nbformat_minor": 0
}